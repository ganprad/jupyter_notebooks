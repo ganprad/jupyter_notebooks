{
 "cells": [
  {
   "cell_type": "markdown",
   "metadata": {},
   "source": [
    "\n",
    "# Dataset:\n",
    "\n",
    "https://archive.ics.uci.edu/ml/datasets/Adult\n",
    "\n",
    "\n",
    "- >50K, <=50K.\n",
    "\n",
    "- age: continuous.\n",
    "- workclass: Private, Self-emp-not-inc, Self-emp-inc, Federal-gov, - Local-gov, State-gov, Without-pay, Never-worked.\n",
    "- fnlwgt: continuous.\n",
    "- education: Bachelors, Some-college, 11th, HS-grad, Prof-school, - Assoc-acdm, Assoc-voc, 9th, 7th-8th, 12th, Masters, 1st-4th, 10th, - Doctorate, 5th-6th, Preschool.\n",
    "- education-num: continuous.\n",
    "- marital-status: Married-civ-spouse, Divorced, Never-married, - Separated, Widowed, Married-spouse-absent, Married-AF-spouse.\n",
    "- occupation: Tech-support, Craft-repair, Other-service, Sales, - Exec-managerial, Prof-specialty, Handlers-cleaners, Machine-op-inspct, - Adm-clerical, Farming-fishing, Transport-moving, Priv-house-serv, - Protective-serv, Armed-Forces.\n",
    "- relationship: Wife, Own-child, Husband, Not-in-family, Other-relative, - Unmarried.\n",
    "- race: White, Asian-Pac-Islander, Amer-Indian-Eskimo, Other, Black.\n",
    "- sex: Female, Male.\n",
    "- capital-gain: continuous.\n",
    "- capital-loss: continuous.\n",
    "- hours-per-week: continuous.\n",
    "- native-country: United-States, Cambodia, England, Puerto-Rico, Canada, Germany, Outlying-US(Guam-USVI-etc), India, Japan, Greece, South, China, Cuba, Iran, Honduras, Philippines, Italy, Poland, Jamaica, Vietnam, Mexico, Portugal, Ireland, France, Dominican-Republic, Laos, Ecuador, Taiwan, Haiti, Columbia, Hungary, Guatemala, Nicaragua, Scotland, Thailand, Yugoslavia, El-Salvador, Trinadad&Tobago, Peru, Hong, Holand-Netherlands.\n"
   ]
  },
  {
   "cell_type": "code",
   "execution_count": 2,
   "metadata": {
    "collapsed": false
   },
   "outputs": [],
   "source": [
    "\n",
    "import pandas as pd\n",
    "import numpy as np\n",
    "import matplotlib.pylab as plt\n",
    "import seaborn as sns\n",
    "import sys\n",
    "sys.setrecursionlimit(30000)\n"
   ]
  },
  {
   "cell_type": "markdown",
   "metadata": {},
   "source": [
    "## Cleanup and Preparation:"
   ]
  },
  {
   "cell_type": "code",
   "execution_count": 3,
   "metadata": {
    "collapsed": false
   },
   "outputs": [],
   "source": [
    "#Dataset description\n",
    "\n",
    "s = '''\n",
    "age: continuous.\n",
    "workclass: Private, Self-emp-not-inc, Self-emp-inc, Federal-gov, Local-gov, State-gov, Without-pay, Never-worked.\n",
    "fnlwgt: continuous.\n",
    "education: Bachelors, Some-college, 11th, HS-grad, Prof-school, Assoc-acdm, Assoc-voc, 9th, 7th-8th, 12th, Masters, 1st-4th, 10th, Doctorate, 5th-6th, Preschool.\n",
    "education_num: continuous.\n",
    "marital_status: Married-civ-spouse, Divorced, Never-married, Separated, Widowed, Married-spouse-absent, Married-AF-spouse.\n",
    "occupation: Tech-support, Craft-repair, Other-service, Sales, Exec-managerial, Prof-specialty, Handlers-cleaners, Machine-op-inspct, Adm-clerical, Farming-fishing, Transport-moving, Priv-house-serv, Protective-serv, Armed-Forces.\n",
    "relationship: Wife, Own-child, Husband, Not-in-family, Other-relative, Unmarried.\n",
    "race: White, Asian-Pac-Islander, Amer-Indian-Eskimo, Other, Black.\n",
    "sex: Female, Male.\n",
    "capital_gain: continuous.\n",
    "capital_loss: continuous.\n",
    "hours_per_week: continuous.\n",
    "native_country: United-States, Cambodia, England, Puerto-Rico, Canada, Germany, Outlying-US(Guam-USVI-etc), India, Japan, Greece, South, China, Cuba, Iran, Honduras, Philippines, Italy, Poland, Jamaica, Vietnam, Mexico, Portugal, Ireland, France, Dominican-Republic, Laos, Ecuador, Taiwan, Haiti, Columbia, Hungary, Guatemala, Nicaragua, Scotland, Thailand, Yugoslavia, El-Salvador, Trinadad&Tobago, Peru, Hong, Holand-Netherlands.\n",
    "high_income: <=50K or >=50K'''"
   ]
  },
  {
   "cell_type": "code",
   "execution_count": 4,
   "metadata": {
    "collapsed": false
   },
   "outputs": [],
   "source": [
    "#Extracting headers\n",
    "\n",
    "headers = [i.split(':')[0] for i in s.split('\\n') if i != '']"
   ]
  },
  {
   "cell_type": "code",
   "execution_count": 5,
   "metadata": {
    "collapsed": false
   },
   "outputs": [],
   "source": [
    "income = pd.read_csv('income.csv',header=None)"
   ]
  },
  {
   "cell_type": "code",
   "execution_count": 6,
   "metadata": {
    "collapsed": false
   },
   "outputs": [
    {
     "data": {
      "text/plain": [
       "{'age': 0,\n",
       " 'capital_gain': 10,\n",
       " 'capital_loss': 11,\n",
       " 'education': 3,\n",
       " 'education_num': 4,\n",
       " 'fnlwgt': 2,\n",
       " 'high_income': 14,\n",
       " 'hours_per_week': 12,\n",
       " 'marital_status': 5,\n",
       " 'native_country': 13,\n",
       " 'occupation': 6,\n",
       " 'race': 8,\n",
       " 'relationship': 7,\n",
       " 'sex': 9,\n",
       " 'workclass': 1}"
      ]
     },
     "execution_count": 6,
     "metadata": {},
     "output_type": "execute_result"
    }
   ],
   "source": [
    "#Zipping and creating dict mappings:\n",
    "dict(zip(headers, income.columns))"
   ]
  },
  {
   "cell_type": "code",
   "execution_count": 7,
   "metadata": {
    "collapsed": false
   },
   "outputs": [
    {
     "data": {
      "text/html": [
       "<div>\n",
       "<table border=\"1\" class=\"dataframe\">\n",
       "  <thead>\n",
       "    <tr style=\"text-align: right;\">\n",
       "      <th></th>\n",
       "      <th>age</th>\n",
       "      <th>workclass</th>\n",
       "      <th>fnlwgt</th>\n",
       "      <th>education</th>\n",
       "      <th>education_num</th>\n",
       "      <th>marital_status</th>\n",
       "      <th>occupation</th>\n",
       "      <th>relationship</th>\n",
       "      <th>race</th>\n",
       "      <th>sex</th>\n",
       "      <th>capital_gain</th>\n",
       "      <th>capital_loss</th>\n",
       "      <th>hours_per_week</th>\n",
       "      <th>native_country</th>\n",
       "      <th>high_income</th>\n",
       "    </tr>\n",
       "  </thead>\n",
       "  <tbody>\n",
       "    <tr>\n",
       "      <th>6687</th>\n",
       "      <td>26</td>\n",
       "      <td>Private</td>\n",
       "      <td>391349</td>\n",
       "      <td>Bachelors</td>\n",
       "      <td>13</td>\n",
       "      <td>Never-married</td>\n",
       "      <td>Adm-clerical</td>\n",
       "      <td>Not-in-family</td>\n",
       "      <td>White</td>\n",
       "      <td>Female</td>\n",
       "      <td>0</td>\n",
       "      <td>0</td>\n",
       "      <td>40</td>\n",
       "      <td>United-States</td>\n",
       "      <td>&lt;=50K</td>\n",
       "    </tr>\n",
       "    <tr>\n",
       "      <th>19215</th>\n",
       "      <td>19</td>\n",
       "      <td>Self-emp-not-inc</td>\n",
       "      <td>67929</td>\n",
       "      <td>Some-college</td>\n",
       "      <td>10</td>\n",
       "      <td>Never-married</td>\n",
       "      <td>Farming-fishing</td>\n",
       "      <td>Own-child</td>\n",
       "      <td>White</td>\n",
       "      <td>Male</td>\n",
       "      <td>0</td>\n",
       "      <td>0</td>\n",
       "      <td>50</td>\n",
       "      <td>United-States</td>\n",
       "      <td>&lt;=50K</td>\n",
       "    </tr>\n",
       "    <tr>\n",
       "      <th>10260</th>\n",
       "      <td>42</td>\n",
       "      <td>Self-emp-not-inc</td>\n",
       "      <td>212847</td>\n",
       "      <td>HS-grad</td>\n",
       "      <td>9</td>\n",
       "      <td>Never-married</td>\n",
       "      <td>Farming-fishing</td>\n",
       "      <td>Own-child</td>\n",
       "      <td>White</td>\n",
       "      <td>Male</td>\n",
       "      <td>0</td>\n",
       "      <td>0</td>\n",
       "      <td>85</td>\n",
       "      <td>United-States</td>\n",
       "      <td>&lt;=50K</td>\n",
       "    </tr>\n",
       "  </tbody>\n",
       "</table>\n",
       "</div>"
      ],
      "text/plain": [
       "       age          workclass  fnlwgt      education  education_num  \\\n",
       "6687    26            Private  391349      Bachelors             13   \n",
       "19215   19   Self-emp-not-inc   67929   Some-college             10   \n",
       "10260   42   Self-emp-not-inc  212847        HS-grad              9   \n",
       "\n",
       "       marital_status        occupation    relationship    race      sex  \\\n",
       "6687    Never-married      Adm-clerical   Not-in-family   White   Female   \n",
       "19215   Never-married   Farming-fishing       Own-child   White     Male   \n",
       "10260   Never-married   Farming-fishing       Own-child   White     Male   \n",
       "\n",
       "       capital_gain  capital_loss  hours_per_week  native_country high_income  \n",
       "6687              0             0              40   United-States       <=50K  \n",
       "19215             0             0              50   United-States       <=50K  \n",
       "10260             0             0              85   United-States       <=50K  "
      ]
     },
     "execution_count": 7,
     "metadata": {},
     "output_type": "execute_result"
    }
   ],
   "source": [
    "income.rename(columns=dict(zip(income.columns,headers)),inplace=True)\n",
    "income.sample(3)"
   ]
  },
  {
   "cell_type": "code",
   "execution_count": 8,
   "metadata": {
    "collapsed": false
   },
   "outputs": [
    {
     "data": {
      "text/plain": [
       "[State-gov, Self-emp-not-inc, Private, Private, Private, ..., Private, Private, Private, Private, Self-emp-inc]\n",
       "Length: 32561\n",
       "Categories (9, object): [?, Federal-gov, Local-gov, Never-worked, ..., Self-emp-inc, Self-emp-not-inc, State-gov, Without-pay]"
      ]
     },
     "execution_count": 8,
     "metadata": {},
     "output_type": "execute_result"
    }
   ],
   "source": [
    "workclass_col = pd.Categorical.from_array(income['workclass'])\n",
    "income['workclass'] = workclass_col.codes\n",
    "workclass_col"
   ]
  },
  {
   "cell_type": "code",
   "execution_count": 9,
   "metadata": {
    "collapsed": false
   },
   "outputs": [],
   "source": [
    "def convert_2_cat(series):\n",
    "    return pd.Categorical.from_array(series).codes   "
   ]
  },
  {
   "cell_type": "code",
   "execution_count": 10,
   "metadata": {
    "collapsed": false
   },
   "outputs": [
    {
     "data": {
      "text/plain": [
       "['education',\n",
       " 'marital_status',\n",
       " 'occupation',\n",
       " 'relationship',\n",
       " 'race',\n",
       " 'sex',\n",
       " 'native_country',\n",
       " 'high_income']"
      ]
     },
     "execution_count": 10,
     "metadata": {},
     "output_type": "execute_result"
    }
   ],
   "source": [
    "conv2cat_list = '''education, marital_status, occupation, relationship, race, sex, native_country, high_income'''\n",
    "conv2cat_list = [i.lstrip() for i in conv2cat_list.split(',')]\n",
    "conv2cat_list"
   ]
  },
  {
   "cell_type": "code",
   "execution_count": 11,
   "metadata": {
    "collapsed": false
   },
   "outputs": [],
   "source": [
    "for i in conv2cat_list:\n",
    "    income[i] = convert_2_cat(income[i])"
   ]
  },
  {
   "cell_type": "code",
   "execution_count": 17,
   "metadata": {
    "collapsed": false
   },
   "outputs": [],
   "source": [
    "income.to_pickle('income_df')"
   ]
  },
  {
   "cell_type": "code",
   "execution_count": 18,
   "metadata": {
    "collapsed": false
   },
   "outputs": [
    {
     "data": {
      "text/html": [
       "<div>\n",
       "<table border=\"1\" class=\"dataframe\">\n",
       "  <thead>\n",
       "    <tr style=\"text-align: right;\">\n",
       "      <th></th>\n",
       "      <th>age</th>\n",
       "      <th>workclass</th>\n",
       "      <th>fnlwgt</th>\n",
       "      <th>education</th>\n",
       "      <th>education_num</th>\n",
       "      <th>marital_status</th>\n",
       "      <th>occupation</th>\n",
       "      <th>relationship</th>\n",
       "      <th>race</th>\n",
       "      <th>sex</th>\n",
       "      <th>capital_gain</th>\n",
       "      <th>capital_loss</th>\n",
       "      <th>hours_per_week</th>\n",
       "      <th>native_country</th>\n",
       "      <th>high_income</th>\n",
       "    </tr>\n",
       "  </thead>\n",
       "  <tbody>\n",
       "    <tr>\n",
       "      <th>15551</th>\n",
       "      <td>43</td>\n",
       "      <td>4</td>\n",
       "      <td>456236</td>\n",
       "      <td>12</td>\n",
       "      <td>14</td>\n",
       "      <td>2</td>\n",
       "      <td>4</td>\n",
       "      <td>0</td>\n",
       "      <td>4</td>\n",
       "      <td>1</td>\n",
       "      <td>0</td>\n",
       "      <td>0</td>\n",
       "      <td>50</td>\n",
       "      <td>39</td>\n",
       "      <td>1</td>\n",
       "    </tr>\n",
       "    <tr>\n",
       "      <th>3324</th>\n",
       "      <td>59</td>\n",
       "      <td>4</td>\n",
       "      <td>294395</td>\n",
       "      <td>12</td>\n",
       "      <td>14</td>\n",
       "      <td>6</td>\n",
       "      <td>10</td>\n",
       "      <td>1</td>\n",
       "      <td>4</td>\n",
       "      <td>0</td>\n",
       "      <td>0</td>\n",
       "      <td>0</td>\n",
       "      <td>40</td>\n",
       "      <td>39</td>\n",
       "      <td>0</td>\n",
       "    </tr>\n",
       "    <tr>\n",
       "      <th>30511</th>\n",
       "      <td>61</td>\n",
       "      <td>6</td>\n",
       "      <td>140300</td>\n",
       "      <td>11</td>\n",
       "      <td>9</td>\n",
       "      <td>4</td>\n",
       "      <td>12</td>\n",
       "      <td>1</td>\n",
       "      <td>4</td>\n",
       "      <td>0</td>\n",
       "      <td>0</td>\n",
       "      <td>0</td>\n",
       "      <td>44</td>\n",
       "      <td>39</td>\n",
       "      <td>0</td>\n",
       "    </tr>\n",
       "    <tr>\n",
       "      <th>6302</th>\n",
       "      <td>33</td>\n",
       "      <td>4</td>\n",
       "      <td>324546</td>\n",
       "      <td>15</td>\n",
       "      <td>10</td>\n",
       "      <td>2</td>\n",
       "      <td>7</td>\n",
       "      <td>0</td>\n",
       "      <td>4</td>\n",
       "      <td>1</td>\n",
       "      <td>0</td>\n",
       "      <td>0</td>\n",
       "      <td>39</td>\n",
       "      <td>39</td>\n",
       "      <td>0</td>\n",
       "    </tr>\n",
       "    <tr>\n",
       "      <th>1264</th>\n",
       "      <td>22</td>\n",
       "      <td>5</td>\n",
       "      <td>153516</td>\n",
       "      <td>15</td>\n",
       "      <td>10</td>\n",
       "      <td>4</td>\n",
       "      <td>3</td>\n",
       "      <td>3</td>\n",
       "      <td>4</td>\n",
       "      <td>1</td>\n",
       "      <td>0</td>\n",
       "      <td>0</td>\n",
       "      <td>35</td>\n",
       "      <td>39</td>\n",
       "      <td>0</td>\n",
       "    </tr>\n",
       "    <tr>\n",
       "      <th>527</th>\n",
       "      <td>74</td>\n",
       "      <td>4</td>\n",
       "      <td>99183</td>\n",
       "      <td>15</td>\n",
       "      <td>10</td>\n",
       "      <td>0</td>\n",
       "      <td>1</td>\n",
       "      <td>1</td>\n",
       "      <td>4</td>\n",
       "      <td>0</td>\n",
       "      <td>0</td>\n",
       "      <td>0</td>\n",
       "      <td>9</td>\n",
       "      <td>39</td>\n",
       "      <td>0</td>\n",
       "    </tr>\n",
       "    <tr>\n",
       "      <th>17715</th>\n",
       "      <td>37</td>\n",
       "      <td>4</td>\n",
       "      <td>549174</td>\n",
       "      <td>11</td>\n",
       "      <td>9</td>\n",
       "      <td>2</td>\n",
       "      <td>3</td>\n",
       "      <td>0</td>\n",
       "      <td>4</td>\n",
       "      <td>1</td>\n",
       "      <td>0</td>\n",
       "      <td>0</td>\n",
       "      <td>50</td>\n",
       "      <td>39</td>\n",
       "      <td>1</td>\n",
       "    </tr>\n",
       "    <tr>\n",
       "      <th>29093</th>\n",
       "      <td>34</td>\n",
       "      <td>4</td>\n",
       "      <td>561334</td>\n",
       "      <td>15</td>\n",
       "      <td>10</td>\n",
       "      <td>2</td>\n",
       "      <td>4</td>\n",
       "      <td>0</td>\n",
       "      <td>4</td>\n",
       "      <td>1</td>\n",
       "      <td>0</td>\n",
       "      <td>0</td>\n",
       "      <td>50</td>\n",
       "      <td>39</td>\n",
       "      <td>1</td>\n",
       "    </tr>\n",
       "    <tr>\n",
       "      <th>4035</th>\n",
       "      <td>34</td>\n",
       "      <td>6</td>\n",
       "      <td>320194</td>\n",
       "      <td>14</td>\n",
       "      <td>15</td>\n",
       "      <td>5</td>\n",
       "      <td>10</td>\n",
       "      <td>4</td>\n",
       "      <td>4</td>\n",
       "      <td>1</td>\n",
       "      <td>0</td>\n",
       "      <td>0</td>\n",
       "      <td>48</td>\n",
       "      <td>39</td>\n",
       "      <td>1</td>\n",
       "    </tr>\n",
       "    <tr>\n",
       "      <th>14954</th>\n",
       "      <td>35</td>\n",
       "      <td>4</td>\n",
       "      <td>409200</td>\n",
       "      <td>7</td>\n",
       "      <td>12</td>\n",
       "      <td>4</td>\n",
       "      <td>11</td>\n",
       "      <td>1</td>\n",
       "      <td>4</td>\n",
       "      <td>1</td>\n",
       "      <td>0</td>\n",
       "      <td>0</td>\n",
       "      <td>40</td>\n",
       "      <td>39</td>\n",
       "      <td>0</td>\n",
       "    </tr>\n",
       "  </tbody>\n",
       "</table>\n",
       "</div>"
      ],
      "text/plain": [
       "       age  workclass  fnlwgt  education  education_num  marital_status  \\\n",
       "15551   43          4  456236         12             14               2   \n",
       "3324    59          4  294395         12             14               6   \n",
       "30511   61          6  140300         11              9               4   \n",
       "6302    33          4  324546         15             10               2   \n",
       "1264    22          5  153516         15             10               4   \n",
       "527     74          4   99183         15             10               0   \n",
       "17715   37          4  549174         11              9               2   \n",
       "29093   34          4  561334         15             10               2   \n",
       "4035    34          6  320194         14             15               5   \n",
       "14954   35          4  409200          7             12               4   \n",
       "\n",
       "       occupation  relationship  race  sex  capital_gain  capital_loss  \\\n",
       "15551           4             0     4    1             0             0   \n",
       "3324           10             1     4    0             0             0   \n",
       "30511          12             1     4    0             0             0   \n",
       "6302            7             0     4    1             0             0   \n",
       "1264            3             3     4    1             0             0   \n",
       "527             1             1     4    0             0             0   \n",
       "17715           3             0     4    1             0             0   \n",
       "29093           4             0     4    1             0             0   \n",
       "4035           10             4     4    1             0             0   \n",
       "14954          11             1     4    1             0             0   \n",
       "\n",
       "       hours_per_week  native_country  high_income  \n",
       "15551              50              39            1  \n",
       "3324               40              39            0  \n",
       "30511              44              39            0  \n",
       "6302               39              39            0  \n",
       "1264               35              39            0  \n",
       "527                 9              39            0  \n",
       "17715              50              39            1  \n",
       "29093              50              39            1  \n",
       "4035               48              39            1  \n",
       "14954              40              39            0  "
      ]
     },
     "execution_count": 18,
     "metadata": {},
     "output_type": "execute_result"
    }
   ],
   "source": [
    "income.sample(10)"
   ]
  },
  {
   "cell_type": "markdown",
   "metadata": {},
   "source": [
    "## Decision tree:\n",
    "\n",
    "- A decision tree is a DAG.\n",
    "- Arrows connecting nodes imply causality. This is expressed as a probability.\n",
    "- A decision tree splits data along various features(like a binary tree).\n",
    "- A node is a randomly(or not) picked feature which is used to split the data.\n",
    "- Decision rule(keeping in mind correlation does not imply causation) for each row of data:\n",
    "        Question: Does private job imply higher income? \n",
    "        Answer:   y or n.\n",
    "       \n",
    "- This translates into splitting the dataset based on the following question for each row: \n",
    "        Q: Is the feature 'workclass' == 4?\n",
    "        A: Y=1 , No=0\n",
    "        \n",
    "- Greater correlation between pairs of variables(feature columns like 'workclass' and 'high_income') corresponds to a greater cross-entropy(and lower KL divergence).\n",
    "- The data is repeatedly split along various features using such decision rules. This makes the tree deeper.\n",
    "- Rows of data 'flow' through a decision tree and finally end up on a terminal node(or leaf) at a certain tree depth(this is a hyperparameter)."
   ]
  },
  {
   "cell_type": "code",
   "execution_count": 21,
   "metadata": {
    "collapsed": false
   },
   "outputs": [
    {
     "data": {
      "text/plain": [
       "((22696, 15), (9865, 15), (32561, 15))"
      ]
     },
     "execution_count": 21,
     "metadata": {},
     "output_type": "execute_result"
    }
   ],
   "source": [
    "# income.workclass == 4 is 'Private' category\n",
    "private_incomes = income[income['workclass'] == 4]\n",
    "public_incomes  = income[income['workclass'] != 4]\n",
    "private_incomes.shape , public_incomes.shape, income.shape"
   ]
  },
  {
   "cell_type": "markdown",
   "metadata": {},
   "source": [
    "### Note:  \n",
    "Dataset has more people people working in the private sector"
   ]
  },
  {
   "cell_type": "code",
   "execution_count": 13,
   "metadata": {
    "collapsed": false
   },
   "outputs": [],
   "source": [
    "columns = [\"age\", \"workclass\", \"education_num\",\n",
    "           \"marital_status\", \"occupation\", \"relationship\", \"race\", \"sex\", \"hours_per_week\", \"native_country\"]\n",
    "\n",
    "\n",
    "def entropy(column):\n",
    "    '''Compute the entropy of a column of data.'''\n",
    "    counts = np.bincount(column)\n",
    "    probabilities = counts / float(len(column))\n",
    "    return -np.sum((probabilities*np.log2(probabilities)))\n",
    "\n",
    "def information_gain(target,by):\n",
    "    '''Calculate information gain by splitting column along median'''\n",
    "    S_T = entropy(target)\n",
    "    N = target.shape[0] #Number of rows\n",
    "    \n",
    "    #Splits\n",
    "    median = by.median()\n",
    "    right_split = np.sum(by > median)\n",
    "    left_split = np.sum(by <= median)\n",
    "    \n",
    "    #Information gain\n",
    "    return S_T - (right_split/N)*entropy(target[by>median]) - (left_split/N)*entropy(target[by<=median])\n",
    "\n",
    "def compute_gains(df,target,columns=False):\n",
    "    if not columns:\n",
    "        columns = df.columns.tolist()\n",
    "        columns.remove(target)\n",
    "    \n",
    "    gains = {feature:information_gain(df[target],df[feature]) for feature in columns}\n",
    "    return gains\n",
    "\n",
    "def find_best_column(df,target,columns):\n",
    "    \n",
    "    gains = compute_gains(df,target,columns=columns)\n",
    "    return max(gains,key=gains.get)"
   ]
  },
  {
   "cell_type": "markdown",
   "metadata": {},
   "source": [
    "## ID3 algorithm:\n",
    "\n",
    "![](id3.png)\n",
    "\n",
    "Reference:\n",
    "https://en.wikipedia.org/wiki/ID3_algorithm"
   ]
  },
  {
   "cell_type": "code",
   "execution_count": 14,
   "metadata": {
    "collapsed": false
   },
   "outputs": [],
   "source": [
    "tree = {}\n",
    "nodes = []\n",
    "\n",
    "def id3(data, target, columns,tree):\n",
    "    # Unique values in target, in this case it is 'high_income'\n",
    "    unique_targets = pd.unique(data[target])\n",
    "    \n",
    "    #node numbering starts with 1\n",
    "    node_number = len(nodes) + 1\n",
    "    nodes.append(node_number)\n",
    "    tree[\"number\"] = node_number\n",
    "    \n",
    "    if len(unique_targets) == 1:\n",
    "        # Assigning labels to the tree\n",
    "        if 0 in unique_targets:\n",
    "            tree[\"label\"] = 0\n",
    "        elif 1 in unique_targets:\n",
    "            tree[\"label\"] = 1\n",
    "        return # Return if condition not met\n",
    "    \n",
    "    # Find the best column to split on in our data.\n",
    "    best_column = find_best_column(data, target, columns)\n",
    "    # Find the median of the column.\n",
    "    column_median = data[best_column].median()\n",
    "    \n",
    "    tree[\"column\"] = best_column\n",
    "    tree[\"median\"] = column_median\n",
    "    \n",
    "    \n",
    "    # Create the two splits.\n",
    "    left_split = data[data[best_column] <= column_median]\n",
    "    right_split = data[data[best_column] > column_median]\n",
    "    split_dict = [[\"left\", left_split], [\"right\", right_split]]\n",
    "    \n",
    "    for name, split in split_dict:\n",
    "        tree[name] = {}\n",
    "        id3(split, target, columns, tree[name])"
   ]
  },
  {
   "cell_type": "code",
   "execution_count": null,
   "metadata": {
    "collapsed": false
   },
   "outputs": [],
   "source": []
  },
  {
   "cell_type": "code",
   "execution_count": 15,
   "metadata": {
    "collapsed": false
   },
   "outputs": [],
   "source": [
    "# Create the dataset that we used in the example in the last screen.\n",
    "tree = {}\n",
    "nodes = []\n",
    "dummy_data = pd.DataFrame([\n",
    "    [0,20,0],\n",
    "    [0,60,2],\n",
    "    [0,40,1],\n",
    "    [1,25,1],\n",
    "    [1,35,2],\n",
    "    [1,55,1]\n",
    "    ])\n",
    "# Assign column names to the data.\n",
    "dummy_data.columns = [\"high_income\", \"age\", \"marital_status\"]\n",
    "\n",
    "# Call the function on our data to set the counters properly.\n",
    "id3(dummy_data, \"high_income\", [\"age\", \"marital_status\"],tree)"
   ]
  },
  {
   "cell_type": "code",
   "execution_count": 16,
   "metadata": {
    "collapsed": false
   },
   "outputs": [],
   "source": [
    "# Call the function on our data to set the counters properly.\n",
    "#tree = {}\n",
    "#nodes = []\n",
    "#id3(data, \"high_income\", data_columns, tree)"
   ]
  },
  {
   "cell_type": "code",
   "execution_count": 17,
   "metadata": {
    "collapsed": false
   },
   "outputs": [
    {
     "name": "stdout",
     "output_type": "stream",
     "text": [
      "age > 37.5\n",
      "    age > 25.0\n",
      "        age > 22.5\n",
      "            Leaf: Label 0\n",
      "            Leaf: Label 1\n",
      "        Leaf: Label 1\n",
      "    age > 55.0\n",
      "        age > 47.5\n",
      "            Leaf: Label 0\n",
      "            Leaf: Label 1\n",
      "        Leaf: Label 0\n"
     ]
    }
   ],
   "source": [
    "def print_with_depth(string, depth):\n",
    "    # Add space before a string.\n",
    "    prefix = \"    \" * depth\n",
    "    # Print a string, appropriately indented.\n",
    "    print(\"{0}{1}\".format(prefix, string))\n",
    "    \n",
    "    \n",
    "def print_node(tree, depth):\n",
    "    # Check for the presence of label in the tree.\n",
    "    if \"label\" in tree:\n",
    "        # If there's a label, then this is a leaf, so print it and return.\n",
    "        print_with_depth(\"Leaf: Label {0}\".format(tree[\"label\"]), depth)\n",
    "        # This is critical -- without it, you'll get infinite recursion.\n",
    "        return\n",
    "    # Print information about what the node is splitting on.\n",
    "    print_with_depth(\"{0} > {1}\".format(tree[\"column\"], tree[\"median\"]), depth)\n",
    "    \n",
    "    # Create a list of tree branches.\n",
    "    branches = [tree[\"left\"], tree[\"right\"]]\n",
    "        \n",
    "    # Insert code here to recursively call print_node on each branch.\n",
    "    for branch in branches:\n",
    "        print_node(branch,depth+1)\n",
    "    \n",
    "    # Don't forget to increment depth when you pass it in!\n",
    "\n",
    "print_node(tree, 0)"
   ]
  },
  {
   "cell_type": "code",
   "execution_count": 18,
   "metadata": {
    "collapsed": false
   },
   "outputs": [
    {
     "name": "stdout",
     "output_type": "stream",
     "text": [
      "1\n"
     ]
    }
   ],
   "source": [
    "def predict(tree, row):\n",
    "    if \"label\" in tree:\n",
    "        return tree[\"label\"]\n",
    "    \n",
    "    column = tree[\"column\"]\n",
    "    median = tree[\"median\"]\n",
    "    \n",
    "    # Check if row[column] is less than or equal to median\n",
    "    # If it's less than or equal, return the result of predicting on the left branch of the tree\n",
    "    # If it's greater, return the result of predicting on the right branch of the tree\n",
    "    if row[column] <= median:\n",
    "        return predict(tree[\"left\"],row)\n",
    "    else:\n",
    "        return predict(tree[\"right\"],row)\n",
    "    \n",
    "\n",
    "# Print the prediction for the first row in our data.\n",
    "print(predict(tree, income.iloc[5]))"
   ]
  },
  {
   "cell_type": "code",
   "execution_count": 26,
   "metadata": {
    "collapsed": false
   },
   "outputs": [],
   "source": [
    "sample_data = income[['high_income','age','marital_status']].sample(10)\n",
    "target = sample_data['high_income']\n",
    "columns = sample_data.columns.tolist()"
   ]
  },
  {
   "cell_type": "code",
   "execution_count": 27,
   "metadata": {
    "collapsed": false
   },
   "outputs": [],
   "source": [
    "def batch_predict(tree, df):\n",
    "    # Insert your code here.\n",
    "    return df.apply(lambda row: predict(tree,row),axis=1)\n",
    "    \n",
    "predictions = batch_predict(tree, sample_data)"
   ]
  },
  {
   "cell_type": "code",
   "execution_count": 28,
   "metadata": {
    "collapsed": false
   },
   "outputs": [
    {
     "name": "stdout",
     "output_type": "stream",
     "text": [
      "Sample Data : \n",
      "\n",
      "        high_income  age  marital_status\n",
      "23460            1   69               2\n",
      "23384            1   31               2\n",
      "11010            1   37               2\n",
      "303              1   55               2\n",
      "7555             1   44               2\n",
      "29684            0   17               4\n",
      "347              0   30               0\n",
      "5311             1   36               4\n",
      "3798             0   30               4\n",
      "30937            0   41               0\n",
      "\n",
      "\n",
      "Predictions : \n",
      "\n",
      "23460    0\n",
      "23384    1\n",
      "11010    1\n",
      "303      1\n",
      "7555     0\n",
      "29684    0\n",
      "347      1\n",
      "5311     1\n",
      "3798     1\n",
      "30937    0\n",
      "dtype: int64\n"
     ]
    }
   ],
   "source": [
    "print('Sample Data : \\n\\n {0}\\n\\n'.format(sample_data))\n",
    "print('Predictions : \\n\\n{0}'.format(predictions))"
   ]
  },
  {
   "cell_type": "code",
   "execution_count": 34,
   "metadata": {
    "collapsed": false
   },
   "outputs": [
    {
     "name": "stdout",
     "output_type": "stream",
     "text": [
      "Accuracy : 0.60\n"
     ]
    }
   ],
   "source": [
    "N = sample_data.shape[0]\n",
    "accuracy = (np.sum(sample_data['high_income'] == predictions))/N\n",
    "print('Accuracy : {0:.2f}'.format(accuracy))"
   ]
  },
  {
   "cell_type": "code",
   "execution_count": 36,
   "metadata": {
    "collapsed": false
   },
   "outputs": [],
   "source": [
    "#THIS TAKES TOO LONG\n",
    "#tree = {}\n",
    "#nodes = []\n",
    "#columns = income.columns.tolist()\n",
    "#id3(income, \"high_income\", columns, tree)"
   ]
  },
  {
   "cell_type": "code",
   "execution_count": null,
   "metadata": {
    "collapsed": true
   },
   "outputs": [],
   "source": []
  }
 ],
 "metadata": {
  "anaconda-cloud": {},
  "kernelspec": {
   "display_name": "Python [default]",
   "language": "python",
   "name": "python3"
  },
  "language_info": {
   "codemirror_mode": {
    "name": "ipython",
    "version": 3
   },
   "file_extension": ".py",
   "mimetype": "text/x-python",
   "name": "python",
   "nbconvert_exporter": "python",
   "pygments_lexer": "ipython3",
   "version": "3.5.2"
  }
 },
 "nbformat": 4,
 "nbformat_minor": 0
}

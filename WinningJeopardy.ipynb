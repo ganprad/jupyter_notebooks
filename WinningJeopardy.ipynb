{
 "cells": [
  {
   "cell_type": "markdown",
   "metadata": {},
   "source": [
    "# Location of dataset\n",
    "\n",
    "https://www.reddit.com/r/datasets/comments/1uyd0t/200000_jeopardy_questions_in_a_json_file\n",
    "\n",
    "\n",
    "### Description:\n",
    "  The json file is an unordered list of questions where each question has:\n",
    "  \n",
    "- 'category' : the question category, e.g. \"HISTORY\"\n",
    "- 'value' : dollar value of the question as string, e.g. \"\\$200\". $Note$: This is \"None\" for Final Jeopardy! and Tiebreaker questions\n",
    "- 'question' : text of question. $Note$: This sometimes contains hyperlinks and other things messy text such as when there's a picture or video question\n",
    "- 'answer' : text of answer\n",
    "- 'round' : one of \"Jeopardy!\",\"Double Jeopardy!\",\"Final Jeopardy!\" or \"Tiebreaker\" Note: Tiebreaker questions do happen but they're very rare (like once every 20 years)\n",
    "- 'show_number' : string of show number, e.g '4680'\n",
    "- 'air_date' : the show air date in format YYYY-MM-DD\n"
   ]
  },
  {
   "cell_type": "code",
   "execution_count": 69,
   "metadata": {
    "collapsed": true
   },
   "outputs": [],
   "source": [
    "import pandas as pd\n",
    "import numpy as  np\n",
    "import string , re\n",
    "\n",
    "pd.options.display.max_rows = 4\n",
    "pd.options.display.max_columns = 15\n",
    "pd.options.display.width = 200"
   ]
  },
  {
   "cell_type": "code",
   "execution_count": 70,
   "metadata": {
    "collapsed": true
   },
   "outputs": [],
   "source": [
    "#jeopardy = pd.read_json('JEOPARDY_QUESTIONS1.json')\n",
    "jeopardy = pd.read_csv('JEOPARDY_CSV.csv')"
   ]
  },
  {
   "cell_type": "code",
   "execution_count": 71,
   "metadata": {
    "collapsed": false
   },
   "outputs": [
    {
     "data": {
      "text/html": [
       "<div>\n",
       "<table border=\"1\" class=\"dataframe\">\n",
       "  <thead>\n",
       "    <tr style=\"text-align: right;\">\n",
       "      <th></th>\n",
       "      <th>Show Number</th>\n",
       "      <th>Air Date</th>\n",
       "      <th>Round</th>\n",
       "      <th>Category</th>\n",
       "      <th>Value</th>\n",
       "      <th>Question</th>\n",
       "      <th>Answer</th>\n",
       "    </tr>\n",
       "  </thead>\n",
       "  <tbody>\n",
       "    <tr>\n",
       "      <th>52285</th>\n",
       "      <td>3478</td>\n",
       "      <td>1999-10-20</td>\n",
       "      <td>Double Jeopardy!</td>\n",
       "      <td>FORGOTTEN MUSICALS</td>\n",
       "      <td>$400</td>\n",
       "      <td>Critics didn't \"fawn\" over the musical based o...</td>\n",
       "      <td>\"The Yearling\"</td>\n",
       "    </tr>\n",
       "    <tr>\n",
       "      <th>206092</th>\n",
       "      <td>5385</td>\n",
       "      <td>2008-01-25</td>\n",
       "      <td>Jeopardy!</td>\n",
       "      <td>MY CHEMICAL ROMANCE</td>\n",
       "      <td>$200</td>\n",
       "      <td>The simplest substance that can also be called...</td>\n",
       "      <td>H2O</td>\n",
       "    </tr>\n",
       "    <tr>\n",
       "      <th>...</th>\n",
       "      <td>...</td>\n",
       "      <td>...</td>\n",
       "      <td>...</td>\n",
       "      <td>...</td>\n",
       "      <td>...</td>\n",
       "      <td>...</td>\n",
       "      <td>...</td>\n",
       "    </tr>\n",
       "    <tr>\n",
       "      <th>50262</th>\n",
       "      <td>1285</td>\n",
       "      <td>1990-03-16</td>\n",
       "      <td>Double Jeopardy!</td>\n",
       "      <td>LANGUAGES</td>\n",
       "      <td>$1000</td>\n",
       "      <td>Standard Spanish originated in this ancient ki...</td>\n",
       "      <td>Castille</td>\n",
       "    </tr>\n",
       "    <tr>\n",
       "      <th>60222</th>\n",
       "      <td>1260</td>\n",
       "      <td>1990-02-09</td>\n",
       "      <td>Jeopardy!</td>\n",
       "      <td>HOLIDAYS &amp; OBSERVANCES</td>\n",
       "      <td>$400</td>\n",
       "      <td>This Jewish holiday marks the end of the 10 da...</td>\n",
       "      <td>Yom Kippur</td>\n",
       "    </tr>\n",
       "  </tbody>\n",
       "</table>\n",
       "<p>10 rows × 7 columns</p>\n",
       "</div>"
      ],
      "text/plain": [
       "        Show Number    Air Date             Round                Category  Value                                           Question          Answer\n",
       "52285          3478  1999-10-20  Double Jeopardy!      FORGOTTEN MUSICALS   $400  Critics didn't \"fawn\" over the musical based o...  \"The Yearling\"\n",
       "206092         5385  2008-01-25         Jeopardy!     MY CHEMICAL ROMANCE   $200  The simplest substance that can also be called...             H2O\n",
       "...             ...         ...               ...                     ...    ...                                                ...             ...\n",
       "50262          1285  1990-03-16  Double Jeopardy!               LANGUAGES  $1000  Standard Spanish originated in this ancient ki...        Castille\n",
       "60222          1260  1990-02-09         Jeopardy!  HOLIDAYS & OBSERVANCES   $400  This Jewish holiday marks the end of the 10 da...      Yom Kippur\n",
       "\n",
       "[10 rows x 7 columns]"
      ]
     },
     "execution_count": 71,
     "metadata": {},
     "output_type": "execute_result"
    }
   ],
   "source": [
    "jeopardy.sample(10)"
   ]
  },
  {
   "cell_type": "code",
   "execution_count": 72,
   "metadata": {
    "collapsed": false
   },
   "outputs": [],
   "source": [
    "jeopardy.columns = jeopardy.columns.str.strip().str.replace(' ','_').str.lower()"
   ]
  },
  {
   "cell_type": "code",
   "execution_count": 73,
   "metadata": {
    "collapsed": true
   },
   "outputs": [],
   "source": [
    "#new_names = [i.lower().strip().replace(' ','_') for i in jeopardy.columns.tolist()]"
   ]
  },
  {
   "cell_type": "code",
   "execution_count": 74,
   "metadata": {
    "collapsed": true
   },
   "outputs": [],
   "source": [
    "#jeopardy.columns = new_names"
   ]
  },
  {
   "cell_type": "code",
   "execution_count": 75,
   "metadata": {
    "collapsed": false
   },
   "outputs": [
    {
     "data": {
      "text/html": [
       "<div>\n",
       "<table border=\"1\" class=\"dataframe\">\n",
       "  <thead>\n",
       "    <tr style=\"text-align: right;\">\n",
       "      <th></th>\n",
       "      <th>show_number</th>\n",
       "      <th>air_date</th>\n",
       "      <th>round</th>\n",
       "      <th>category</th>\n",
       "      <th>value</th>\n",
       "      <th>question</th>\n",
       "      <th>answer</th>\n",
       "    </tr>\n",
       "  </thead>\n",
       "  <tbody>\n",
       "    <tr>\n",
       "      <th>127010</th>\n",
       "      <td>4676</td>\n",
       "      <td>2004-12-27</td>\n",
       "      <td>Double Jeopardy!</td>\n",
       "      <td>MAX-IMUM OVERDRIVE</td>\n",
       "      <td>$2000</td>\n",
       "      <td>The \"colorful\" title of this George Peppard-Ur...</td>\n",
       "      <td>The Blue Max</td>\n",
       "    </tr>\n",
       "    <tr>\n",
       "      <th>54980</th>\n",
       "      <td>961</td>\n",
       "      <td>1988-11-07</td>\n",
       "      <td>Double Jeopardy!</td>\n",
       "      <td>THE THREE R'S</td>\n",
       "      <td>$600</td>\n",
       "      <td>To celebrate its 60th anniversary, this newspa...</td>\n",
       "      <td>\"Weekly Reader\"</td>\n",
       "    </tr>\n",
       "  </tbody>\n",
       "</table>\n",
       "</div>"
      ],
      "text/plain": [
       "        show_number    air_date             round            category  value                                           question           answer\n",
       "127010         4676  2004-12-27  Double Jeopardy!  MAX-IMUM OVERDRIVE  $2000  The \"colorful\" title of this George Peppard-Ur...     The Blue Max\n",
       "54980           961  1988-11-07  Double Jeopardy!       THE THREE R'S   $600  To celebrate its 60th anniversary, this newspa...  \"Weekly Reader\""
      ]
     },
     "execution_count": 75,
     "metadata": {},
     "output_type": "execute_result"
    }
   ],
   "source": [
    "jeopardy.sample(2)"
   ]
  },
  {
   "cell_type": "code",
   "execution_count": 76,
   "metadata": {
    "collapsed": false
   },
   "outputs": [
    {
     "data": {
      "text/html": [
       "<div>\n",
       "<table border=\"1\" class=\"dataframe\">\n",
       "  <thead>\n",
       "    <tr style=\"text-align: right;\">\n",
       "      <th></th>\n",
       "      <th>show_number</th>\n",
       "      <th>air_date</th>\n",
       "      <th>round</th>\n",
       "      <th>category</th>\n",
       "      <th>value</th>\n",
       "      <th>question</th>\n",
       "      <th>answer</th>\n",
       "    </tr>\n",
       "  </thead>\n",
       "  <tbody>\n",
       "    <tr>\n",
       "      <th>0</th>\n",
       "      <td>4680</td>\n",
       "      <td>2004-12-31</td>\n",
       "      <td>Jeopardy!</td>\n",
       "      <td>HISTORY</td>\n",
       "      <td>$200</td>\n",
       "      <td>For the last 8 years of his life, Galileo was ...</td>\n",
       "      <td>Copernicus</td>\n",
       "    </tr>\n",
       "    <tr>\n",
       "      <th>1</th>\n",
       "      <td>4680</td>\n",
       "      <td>2004-12-31</td>\n",
       "      <td>Jeopardy!</td>\n",
       "      <td>ESPN's TOP 10 ALL-TIME ATHLETES</td>\n",
       "      <td>$200</td>\n",
       "      <td>No. 2: 1912 Olympian; football star at Carlisl...</td>\n",
       "      <td>Jim Thorpe</td>\n",
       "    </tr>\n",
       "    <tr>\n",
       "      <th>...</th>\n",
       "      <td>...</td>\n",
       "      <td>...</td>\n",
       "      <td>...</td>\n",
       "      <td>...</td>\n",
       "      <td>...</td>\n",
       "      <td>...</td>\n",
       "      <td>...</td>\n",
       "    </tr>\n",
       "    <tr>\n",
       "      <th>216928</th>\n",
       "      <td>4999</td>\n",
       "      <td>2006-05-11</td>\n",
       "      <td>Double Jeopardy!</td>\n",
       "      <td>QUOTATIONS</td>\n",
       "      <td>$2000</td>\n",
       "      <td>From Ft. Sill, Okla. he made the plea, Arizona...</td>\n",
       "      <td>Geronimo</td>\n",
       "    </tr>\n",
       "    <tr>\n",
       "      <th>216929</th>\n",
       "      <td>4999</td>\n",
       "      <td>2006-05-11</td>\n",
       "      <td>Final Jeopardy!</td>\n",
       "      <td>HISTORIC NAMES</td>\n",
       "      <td>None</td>\n",
       "      <td>A silent movie title includes the last name of...</td>\n",
       "      <td>Grigori Alexandrovich Potemkin</td>\n",
       "    </tr>\n",
       "  </tbody>\n",
       "</table>\n",
       "<p>216930 rows × 7 columns</p>\n",
       "</div>"
      ],
      "text/plain": [
       "        show_number    air_date             round                         category  value                                           question                          answer\n",
       "0              4680  2004-12-31         Jeopardy!                          HISTORY   $200  For the last 8 years of his life, Galileo was ...                      Copernicus\n",
       "1              4680  2004-12-31         Jeopardy!  ESPN's TOP 10 ALL-TIME ATHLETES   $200  No. 2: 1912 Olympian; football star at Carlisl...                      Jim Thorpe\n",
       "...             ...         ...               ...                              ...    ...                                                ...                             ...\n",
       "216928         4999  2006-05-11  Double Jeopardy!                       QUOTATIONS  $2000  From Ft. Sill, Okla. he made the plea, Arizona...                        Geronimo\n",
       "216929         4999  2006-05-11   Final Jeopardy!                   HISTORIC NAMES   None  A silent movie title includes the last name of...  Grigori Alexandrovich Potemkin\n",
       "\n",
       "[216930 rows x 7 columns]"
      ]
     },
     "execution_count": 76,
     "metadata": {},
     "output_type": "execute_result"
    }
   ],
   "source": [
    "jeopardy"
   ]
  },
  {
   "cell_type": "code",
   "execution_count": 87,
   "metadata": {
    "collapsed": false
   },
   "outputs": [
    {
     "data": {
      "text/plain": [
       "0         for the last 8 years of his life galileo was u...\n",
       "1         no 2 1912 olympian football star at carlisle i...\n",
       "                                ...                        \n",
       "216928    from ft sill okla he made the plea arizona is ...\n",
       "216929    a silent movie title includes the last name of...\n",
       "Name: question, dtype: object"
      ]
     },
     "execution_count": 87,
     "metadata": {},
     "output_type": "execute_result"
    }
   ],
   "source": [
    "tbl = string.maketrans(\"\",\"\")\n",
    "jeopardy.question.str.translate(tbl,string.punctuation).str.lower()"
   ]
  },
  {
   "cell_type": "code",
   "execution_count": null,
   "metadata": {
    "collapsed": true
   },
   "outputs": [],
   "source": []
  },
  {
   "cell_type": "code",
   "execution_count": null,
   "metadata": {
    "collapsed": true
   },
   "outputs": [],
   "source": []
  },
  {
   "cell_type": "markdown",
   "metadata": {},
   "source": [
    "### Performing basic cleanup operations:\n",
    "\n",
    "- Stripping all punctuation and capitalizations in the 'Question' and 'Answer' columns.\n",
    "- Converting the 'Value' column to integer type after stripping dollar sign.\n",
    "- Converting the 'Air_date' column values to datetime objects."
   ]
  },
  {
   "cell_type": "markdown",
   "metadata": {},
   "source": [
    "Refer to these links:\n",
    "\n",
    "http://www.tutorialspoint.com/python3/string_maketrans.htm\n",
    "\n",
    "https://stackoverflow.com/questions/11692199/string-translate-with-unicode-data-in-python\n",
    "\n",
    "https://stackoverflow.com/questions/265960/best-way-to-strip-punctuation-from-a-string-in-python\n",
    "\n",
    "\n",
    "Alternate Method:\n",
    "```python\n",
    "print(string.punctuation)\n",
    "\n",
    "def clean(obj):\n",
    "    punctuation = string.punctuation\n",
    "    remove_uni_ordinal_mapping = dict((ord(char),None) for char in punctuation)\n",
    "    obj = obj.translate(remove_uni_ordinal_mapping)\n",
    "    \n",
    "    return obj.lower()\n",
    "```"
   ]
  },
  {
   "cell_type": "code",
   "execution_count": 77,
   "metadata": {
    "collapsed": false
   },
   "outputs": [],
   "source": [
    "def clean(obj):\n",
    "    tbl = string.maketrans(\"\",\"\")\n",
    "    obj = obj.translate(tbl,string.punctuation).lower()\n",
    "    return obj\n",
    "\n",
    "def str_2_num(obj):\n",
    "    try:\n",
    "        return np.int(obj)\n",
    "    except:\n",
    "        return 0"
   ]
  },
  {
   "cell_type": "code",
   "execution_count": 30,
   "metadata": {
    "collapsed": false
   },
   "outputs": [],
   "source": [
    "jeopardy['clean_question'] = jeopardy.question.apply(clean)\n",
    "jeopardy['clean_answer'] = jeopardy.answer.apply(clean)\n",
    "jeopardy['clean_value'] = jeopardy.value.apply(clean)\n",
    "jeopardy.clean_value = jeopardy.clean_value.apply(str_2_num)\n",
    "jeopardy.air_date = pd.to_datetime(jeopardy.air_date, format='%Y-%m-%d ')"
   ]
  },
  {
   "cell_type": "code",
   "execution_count": 31,
   "metadata": {
    "collapsed": false
   },
   "outputs": [
    {
     "data": {
      "text/html": [
       "<div>\n",
       "<table border=\"1\" class=\"dataframe\">\n",
       "  <thead>\n",
       "    <tr style=\"text-align: right;\">\n",
       "      <th></th>\n",
       "      <th>show_number</th>\n",
       "      <th>air_date</th>\n",
       "      <th>round</th>\n",
       "      <th>...</th>\n",
       "      <th>clean_question</th>\n",
       "      <th>clean_answer</th>\n",
       "      <th>clean_value</th>\n",
       "    </tr>\n",
       "  </thead>\n",
       "  <tbody>\n",
       "    <tr>\n",
       "      <th>1927</th>\n",
       "      <td>6294</td>\n",
       "      <td>2012-01-19</td>\n",
       "      <td>Jeopardy!</td>\n",
       "      <td>...</td>\n",
       "      <td>the chorus of romeo  juliet tells us its in th...</td>\n",
       "      <td>verona</td>\n",
       "      <td>600</td>\n",
       "    </tr>\n",
       "    <tr>\n",
       "      <th>39123</th>\n",
       "      <td>5032</td>\n",
       "      <td>2006-06-27</td>\n",
       "      <td>Double Jeopardy!</td>\n",
       "      <td>...</td>\n",
       "      <td>there are 2 kinds of this creature soft  hard ...</td>\n",
       "      <td>ticks</td>\n",
       "      <td>800</td>\n",
       "    </tr>\n",
       "  </tbody>\n",
       "</table>\n",
       "<p>2 rows × 10 columns</p>\n",
       "</div>"
      ],
      "text/plain": [
       "       show_number   air_date             round     ...      \\\n",
       "1927          6294 2012-01-19         Jeopardy!     ...       \n",
       "39123         5032 2006-06-27  Double Jeopardy!     ...       \n",
       "\n",
       "                                          clean_question clean_answer  \\\n",
       "1927   the chorus of romeo  juliet tells us its in th...       verona   \n",
       "39123  there are 2 kinds of this creature soft  hard ...        ticks   \n",
       "\n",
       "      clean_value  \n",
       "1927          600  \n",
       "39123         800  \n",
       "\n",
       "[2 rows x 10 columns]"
      ]
     },
     "execution_count": 31,
     "metadata": {},
     "output_type": "execute_result"
    }
   ],
   "source": [
    "jeopardy.sample(2)"
   ]
  },
  {
   "cell_type": "code",
   "execution_count": 19,
   "metadata": {
    "collapsed": false
   },
   "outputs": [
    {
     "data": {
      "text/plain": [
       "0                                                copernicus\n",
       "1                                                jim thorpe\n",
       "2                                                   arizona\n",
       "3                                                 mcdonalds\n",
       "4                                                john adams\n",
       "5                                                   the ant\n",
       "6                                            the appian way\n",
       "7                                            michael jordan\n",
       "8                                                washington\n",
       "9                                             crate  barrel\n",
       "10                                           jackie gleason\n",
       "11                                                  the cud\n",
       "12                                      ceylon or sri lanka\n",
       "13                                                jim brown\n",
       "14                                             the uv index\n",
       "15                                                   bulova\n",
       "16                                              jesse james\n",
       "17                                                      imp\n",
       "18                                        the international\n",
       "19                                               lou gehrig\n",
       "20                                                  morocco\n",
       "21                                              paul bonwit\n",
       "22        hattie mcdaniel for her role in gone with the ...\n",
       "23                                                      era\n",
       "24                                       the congress party\n",
       "25                                         wilt chamberlain\n",
       "26                                                       k2\n",
       "27                                              ethan allen\n",
       "28                                                      ply\n",
       "29                                                   horton\n",
       "                                ...                        \n",
       "216900                                         alec baldwin\n",
       "216901                                               samson\n",
       "216902                                             the teal\n",
       "216903                                               africa\n",
       "216904                                        ronald reagan\n",
       "216905                                             budapest\n",
       "216906                                            amsterdam\n",
       "216907                                                  man\n",
       "216908                                             a toucan\n",
       "216909                                       allen ginsberg\n",
       "216910                                         muhammad ali\n",
       "216911                                                 oslo\n",
       "216912                                           siddhartha\n",
       "216913                                         edward elgar\n",
       "216914                                               a tern\n",
       "216915                                 erle stanley gardner\n",
       "216916                                                 work\n",
       "216917                                           georgetown\n",
       "216918                                           fanny hill\n",
       "216919                                             magritte\n",
       "216920                                             thrushes\n",
       "216921                                            anaïs nin\n",
       "216922                                    margaret thatcher\n",
       "216923                                           paramaribo\n",
       "216924                                                stomp\n",
       "216925                                             turandot\n",
       "216926                                           a titmouse\n",
       "216927                                         clive barker\n",
       "216928                                             geronimo\n",
       "216929                       grigori alexandrovich potemkin\n",
       "Name: answer, dtype: object"
      ]
     },
     "execution_count": 19,
     "metadata": {},
     "output_type": "execute_result"
    }
   ],
   "source": [
    "(jeopardy[['question','answer']]\n",
    "                                 #.question\n",
    "                                 #.apply(clean)\n",
    "                                 .answer\n",
    "                                 .apply(clean)\n",
    ")"
   ]
  },
  {
   "cell_type": "code",
   "execution_count": null,
   "metadata": {
    "collapsed": true
   },
   "outputs": [],
   "source": []
  },
  {
   "cell_type": "code",
   "execution_count": null,
   "metadata": {
    "collapsed": true
   },
   "outputs": [],
   "source": []
  },
  {
   "cell_type": "code",
   "execution_count": null,
   "metadata": {
    "collapsed": true
   },
   "outputs": [],
   "source": []
  },
  {
   "cell_type": "code",
   "execution_count": null,
   "metadata": {
    "collapsed": true
   },
   "outputs": [],
   "source": []
  },
  {
   "cell_type": "code",
   "execution_count": null,
   "metadata": {
    "collapsed": false
   },
   "outputs": [],
   "source": [
    "def splitS(Series):\n",
    "    try:\n",
    "        return Series.str.split(\" \")\n",
    "    except:\n",
    "        return 0\n",
    "\n",
    "def removeS(Series,rm_string):\n",
    "    try:\n",
    "        for k,v in Series.iteritems():\n",
    "            v.remove(rm_string)\n",
    "        return 0\n",
    "    except:\n",
    "        return 1"
   ]
  },
  {
   "cell_type": "code",
   "execution_count": null,
   "metadata": {
    "collapsed": false
   },
   "outputs": [],
   "source": [
    "jeopardy['split_answer'] = splitS(jeopardy.clean_answer)\n",
    "jeopardy['split_question'] = splitS(jeopardy.clean_question)"
   ]
  },
  {
   "cell_type": "code",
   "execution_count": null,
   "metadata": {
    "collapsed": false
   },
   "outputs": [],
   "source": [
    "#Picking out a 'the' in jeopardy.split_question column of dataframe:\n",
    "jeopardy.split_question.loc[:3]"
   ]
  },
  {
   "cell_type": "code",
   "execution_count": null,
   "metadata": {
    "collapsed": false
   },
   "outputs": [],
   "source": [
    "test = removeS(jeopardy.split_question,'the')\n",
    "answer = removeS(jeopardy.split_answer,'the')"
   ]
  },
  {
   "cell_type": "code",
   "execution_count": null,
   "metadata": {
    "collapsed": false
   },
   "outputs": [],
   "source": [
    "def matching_function(df):\n",
    "    match_count = 0\n",
    "    split_question = splitS(df['clean_question'])\n",
    "    split_answer = splitS(df['clean_answer'])\n",
    "    remove_the = removeS(split_question,'the')\n",
    "    remove_the = removeS(split_answer,'the')\n",
    "    return split_question,split_answer\n",
    "    "
   ]
  },
  {
   "cell_type": "code",
   "execution_count": null,
   "metadata": {
    "collapsed": false
   },
   "outputs": [],
   "source": [
    "X, Y = matching_function(jeopardy[['clean_question','clean_answer']])"
   ]
  },
  {
   "cell_type": "code",
   "execution_count": null,
   "metadata": {
    "collapsed": false
   },
   "outputs": [],
   "source": [
    "X.loc[0] , Y.loc[0]"
   ]
  },
  {
   "cell_type": "code",
   "execution_count": null,
   "metadata": {
    "collapsed": false
   },
   "outputs": [],
   "source": [
    "test, answer"
   ]
  },
  {
   "cell_type": "code",
   "execution_count": null,
   "metadata": {
    "collapsed": false
   },
   "outputs": [],
   "source": []
  },
  {
   "cell_type": "code",
   "execution_count": null,
   "metadata": {
    "collapsed": false
   },
   "outputs": [],
   "source": []
  },
  {
   "cell_type": "code",
   "execution_count": null,
   "metadata": {
    "collapsed": false
   },
   "outputs": [],
   "source": []
  },
  {
   "cell_type": "code",
   "execution_count": null,
   "metadata": {
    "collapsed": true
   },
   "outputs": [],
   "source": []
  }
 ],
 "metadata": {
  "kernelspec": {
   "display_name": "Python 2",
   "language": "python",
   "name": "python2"
  },
  "language_info": {
   "codemirror_mode": {
    "name": "ipython",
    "version": 2
   },
   "file_extension": ".py",
   "mimetype": "text/x-python",
   "name": "python",
   "nbconvert_exporter": "python",
   "pygments_lexer": "ipython2",
   "version": "2.7.11"
  }
 },
 "nbformat": 4,
 "nbformat_minor": 0
}

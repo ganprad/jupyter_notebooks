{
 "cells": [
  {
   "cell_type": "markdown",
   "metadata": {},
   "source": [
    "# Location of dataset\n",
    "\n",
    "https://www.reddit.com/r/datasets/comments/1uyd0t/200000_jeopardy_questions_in_a_json_file\n",
    "\n",
    "\n",
    "### Description:\n",
    "  The json file is an unordered list of questions where each question has:\n",
    "  \n",
    "- 'category' : the question category, e.g. \"HISTORY\"\n",
    "- 'value' : dollar value of the question as string, e.g. \"\\$200\". $Note$: This is \"None\" for Final Jeopardy! and Tiebreaker questions\n",
    "- 'question' : text of question. $Note$: This sometimes contains hyperlinks and other things messy text such as when there's a picture or video question\n",
    "- 'answer' : text of answer\n",
    "- 'round' : one of \"Jeopardy!\",\"Double Jeopardy!\",\"Final Jeopardy!\" or \"Tiebreaker\" Note: Tiebreaker questions do happen but they're very rare (like once every 20 years)\n",
    "- 'show_number' : string of show number, e.g '4680'\n",
    "- 'air_date' : the show air date in format YYYY-MM-DD\n"
   ]
  },
  {
   "cell_type": "code",
   "execution_count": 23,
   "metadata": {
    "collapsed": true
   },
   "outputs": [],
   "source": [
    "import pandas as pd\n",
    "import numpy as  np\n",
    "import string , re\n",
    "\n",
    "pd.options.display.max_rows = 6\n",
    "pd.options.display.max_columns = 6\n",
    "pd.options.display.width = 80"
   ]
  },
  {
   "cell_type": "code",
   "execution_count": 33,
   "metadata": {
    "collapsed": true
   },
   "outputs": [],
   "source": [
    "#jeopardy = pd.read_json('JEOPARDY_QUESTIONS1.json')\n",
    "jeopardy = pd.read_csv('JEOPARDY_CSV.csv')"
   ]
  },
  {
   "cell_type": "code",
   "execution_count": 34,
   "metadata": {
    "collapsed": false
   },
   "outputs": [
    {
     "data": {
      "text/html": [
       "<div>\n",
       "<table border=\"1\" class=\"dataframe\">\n",
       "  <thead>\n",
       "    <tr style=\"text-align: right;\">\n",
       "      <th></th>\n",
       "      <th>Show Number</th>\n",
       "      <th>Air Date</th>\n",
       "      <th>Round</th>\n",
       "      <th>...</th>\n",
       "      <th>Value</th>\n",
       "      <th>Question</th>\n",
       "      <th>Answer</th>\n",
       "    </tr>\n",
       "  </thead>\n",
       "  <tbody>\n",
       "    <tr>\n",
       "      <th>43452</th>\n",
       "      <td>4965</td>\n",
       "      <td>2006-03-24</td>\n",
       "      <td>Jeopardy!</td>\n",
       "      <td>...</td>\n",
       "      <td>$400</td>\n",
       "      <td>1933: &lt;a href=\"http://www.j-archive.com/media/...</td>\n",
       "      <td>King Kong</td>\n",
       "    </tr>\n",
       "    <tr>\n",
       "      <th>63162</th>\n",
       "      <td>967</td>\n",
       "      <td>1988-11-15</td>\n",
       "      <td>Jeopardy!</td>\n",
       "      <td>...</td>\n",
       "      <td>$500</td>\n",
       "      <td>A 1979 hit by Supertramp gave you these direct...</td>\n",
       "      <td>\"Take The Long Way Home\"</td>\n",
       "    </tr>\n",
       "    <tr>\n",
       "      <th>119820</th>\n",
       "      <td>3416</td>\n",
       "      <td>1999-06-14</td>\n",
       "      <td>Jeopardy!</td>\n",
       "      <td>...</td>\n",
       "      <td>$300</td>\n",
       "      <td>Hey, steer clear of the fellow seen here (skun...</td>\n",
       "      <td>Polecat</td>\n",
       "    </tr>\n",
       "    <tr>\n",
       "      <th>...</th>\n",
       "      <td>...</td>\n",
       "      <td>...</td>\n",
       "      <td>...</td>\n",
       "      <td>...</td>\n",
       "      <td>...</td>\n",
       "      <td>...</td>\n",
       "      <td>...</td>\n",
       "    </tr>\n",
       "    <tr>\n",
       "      <th>45247</th>\n",
       "      <td>3172</td>\n",
       "      <td>1998-05-19</td>\n",
       "      <td>Jeopardy!</td>\n",
       "      <td>...</td>\n",
       "      <td>$500</td>\n",
       "      <td>This English scientist didn't need a cat to fa...</td>\n",
       "      <td>Sir Isaac Newton</td>\n",
       "    </tr>\n",
       "    <tr>\n",
       "      <th>204127</th>\n",
       "      <td>11</td>\n",
       "      <td>1984-09-24</td>\n",
       "      <td>Double Jeopardy!</td>\n",
       "      <td>...</td>\n",
       "      <td>$400</td>\n",
       "      <td>Richard Carlson \"led\" this number of lives as ...</td>\n",
       "      <td>3</td>\n",
       "    </tr>\n",
       "    <tr>\n",
       "      <th>70645</th>\n",
       "      <td>5169</td>\n",
       "      <td>2007-02-15</td>\n",
       "      <td>Double Jeopardy!</td>\n",
       "      <td>...</td>\n",
       "      <td>$1200</td>\n",
       "      <td>The song mentions their pride</td>\n",
       "      <td>Pilgrims</td>\n",
       "    </tr>\n",
       "  </tbody>\n",
       "</table>\n",
       "<p>10 rows × 7 columns</p>\n",
       "</div>"
      ],
      "text/plain": [
       "        Show Number    Air Date             Round            ...             \\\n",
       "43452          4965  2006-03-24         Jeopardy!            ...              \n",
       "63162           967  1988-11-15         Jeopardy!            ...              \n",
       "119820         3416  1999-06-14         Jeopardy!            ...              \n",
       "...             ...         ...               ...            ...              \n",
       "45247          3172  1998-05-19         Jeopardy!            ...              \n",
       "204127           11  1984-09-24  Double Jeopardy!            ...              \n",
       "70645          5169  2007-02-15  Double Jeopardy!            ...              \n",
       "\n",
       "        Value                                           Question  \\\n",
       "43452    $400  1933: <a href=\"http://www.j-archive.com/media/...   \n",
       "63162    $500  A 1979 hit by Supertramp gave you these direct...   \n",
       "119820   $300  Hey, steer clear of the fellow seen here (skun...   \n",
       "...       ...                                                ...   \n",
       "45247    $500  This English scientist didn't need a cat to fa...   \n",
       "204127   $400  Richard Carlson \"led\" this number of lives as ...   \n",
       "70645   $1200                      The song mentions their pride   \n",
       "\n",
       "                          Answer  \n",
       "43452                  King Kong  \n",
       "63162   \"Take The Long Way Home\"  \n",
       "119820                   Polecat  \n",
       "...                          ...  \n",
       "45247           Sir Isaac Newton  \n",
       "204127                         3  \n",
       "70645                   Pilgrims  \n",
       "\n",
       "[10 rows x 7 columns]"
      ]
     },
     "execution_count": 34,
     "metadata": {},
     "output_type": "execute_result"
    }
   ],
   "source": [
    "jeopardy.sample(10)"
   ]
  },
  {
   "cell_type": "code",
   "execution_count": 38,
   "metadata": {
    "collapsed": false
   },
   "outputs": [],
   "source": [
    "jeopardy.columns = jeopardy.columns.str.strip().str.replace(' ','_').str.lower()"
   ]
  },
  {
   "cell_type": "code",
   "execution_count": 39,
   "metadata": {
    "collapsed": true
   },
   "outputs": [],
   "source": [
    "new_names = [i.lower().strip().replace(' ','_') for i in jeopardy.columns.tolist()]"
   ]
  },
  {
   "cell_type": "code",
   "execution_count": 40,
   "metadata": {
    "collapsed": true
   },
   "outputs": [],
   "source": [
    "jeopardy.columns = new_names"
   ]
  },
  {
   "cell_type": "code",
   "execution_count": 32,
   "metadata": {
    "collapsed": false
   },
   "outputs": [
    {
     "data": {
      "text/html": [
       "<div>\n",
       "<table border=\"1\" class=\"dataframe\">\n",
       "  <thead>\n",
       "    <tr style=\"text-align: right;\">\n",
       "      <th></th>\n",
       "      <th>show_number</th>\n",
       "      <th>air_date</th>\n",
       "      <th>round</th>\n",
       "      <th>...</th>\n",
       "      <th>clean_question</th>\n",
       "      <th>clean_answer</th>\n",
       "      <th>clean_value</th>\n",
       "    </tr>\n",
       "  </thead>\n",
       "  <tbody>\n",
       "    <tr>\n",
       "      <th>193932</th>\n",
       "      <td>4770</td>\n",
       "      <td>2005-05-06</td>\n",
       "      <td>Jeopardy!</td>\n",
       "      <td>...</td>\n",
       "      <td>to write down words especially from audio to w...</td>\n",
       "      <td>transcribe</td>\n",
       "      <td>400</td>\n",
       "    </tr>\n",
       "    <tr>\n",
       "      <th>108239</th>\n",
       "      <td>2949</td>\n",
       "      <td>1997-05-29</td>\n",
       "      <td>Double Jeopardy!</td>\n",
       "      <td>...</td>\n",
       "      <td>limousin  blonde daquitaine are popular breeds...</td>\n",
       "      <td>france</td>\n",
       "      <td>400</td>\n",
       "    </tr>\n",
       "  </tbody>\n",
       "</table>\n",
       "<p>2 rows × 10 columns</p>\n",
       "</div>"
      ],
      "text/plain": [
       "        show_number   air_date             round     ...      \\\n",
       "193932         4770 2005-05-06         Jeopardy!     ...       \n",
       "108239         2949 1997-05-29  Double Jeopardy!     ...       \n",
       "\n",
       "                                           clean_question clean_answer  \\\n",
       "193932  to write down words especially from audio to w...   transcribe   \n",
       "108239  limousin  blonde daquitaine are popular breeds...       france   \n",
       "\n",
       "       clean_value  \n",
       "193932         400  \n",
       "108239         400  \n",
       "\n",
       "[2 rows x 10 columns]"
      ]
     },
     "execution_count": 32,
     "metadata": {},
     "output_type": "execute_result"
    }
   ],
   "source": [
    "jeopardy.sample(2)"
   ]
  },
  {
   "cell_type": "code",
   "execution_count": null,
   "metadata": {
    "collapsed": true
   },
   "outputs": [],
   "source": [
    "jeopardy"
   ]
  },
  {
   "cell_type": "code",
   "execution_count": null,
   "metadata": {
    "collapsed": true
   },
   "outputs": [],
   "source": []
  },
  {
   "cell_type": "markdown",
   "metadata": {},
   "source": [
    "### Performing basic cleanup operations:\n",
    "\n",
    "- Stripping all punctuation and capitalizations in the 'Question' and 'Answer' columns.\n",
    "- Converting the 'Value' column to integer type after stripping dollar sign.\n",
    "- Converting the 'Air_date' column values to datetime objects."
   ]
  },
  {
   "cell_type": "markdown",
   "metadata": {},
   "source": [
    "Refer to these links:\n",
    "\n",
    "http://www.tutorialspoint.com/python3/string_maketrans.htm\n",
    "\n",
    "https://stackoverflow.com/questions/11692199/string-translate-with-unicode-data-in-python\n",
    "\n",
    "https://stackoverflow.com/questions/265960/best-way-to-strip-punctuation-from-a-string-in-python\n",
    "\n",
    "\n",
    "Alternate Method:\n",
    "```python\n",
    "print(string.punctuation)\n",
    "\n",
    "def clean(obj):\n",
    "    punctuation = string.punctuation\n",
    "    remove_uni_ordinal_mapping = dict((ord(char),None) for char in punctuation)\n",
    "    obj = obj.translate(remove_uni_ordinal_mapping)\n",
    "    \n",
    "    return obj.lower()\n",
    "```"
   ]
  },
  {
   "cell_type": "code",
   "execution_count": 29,
   "metadata": {
    "collapsed": false
   },
   "outputs": [],
   "source": [
    "def clean(obj):\n",
    "    tbl = string.maketrans(\"\",\"\")\n",
    "    obj = obj.translate(tbl,string.punctuation).lower()\n",
    "    return obj\n",
    "\n",
    "def str_2_num(obj):\n",
    "    try:\n",
    "        return np.int(obj)\n",
    "    except:\n",
    "        return 0"
   ]
  },
  {
   "cell_type": "code",
   "execution_count": 30,
   "metadata": {
    "collapsed": false
   },
   "outputs": [],
   "source": [
    "jeopardy['clean_question'] = jeopardy.question.apply(clean)\n",
    "jeopardy['clean_answer'] = jeopardy.answer.apply(clean)\n",
    "jeopardy['clean_value'] = jeopardy.value.apply(clean)\n",
    "jeopardy.clean_value = jeopardy.clean_value.apply(str_2_num)\n",
    "jeopardy.air_date = pd.to_datetime(jeopardy.air_date, format='%Y-%m-%d ')"
   ]
  },
  {
   "cell_type": "code",
   "execution_count": 31,
   "metadata": {
    "collapsed": false
   },
   "outputs": [
    {
     "data": {
      "text/html": [
       "<div>\n",
       "<table border=\"1\" class=\"dataframe\">\n",
       "  <thead>\n",
       "    <tr style=\"text-align: right;\">\n",
       "      <th></th>\n",
       "      <th>show_number</th>\n",
       "      <th>air_date</th>\n",
       "      <th>round</th>\n",
       "      <th>...</th>\n",
       "      <th>clean_question</th>\n",
       "      <th>clean_answer</th>\n",
       "      <th>clean_value</th>\n",
       "    </tr>\n",
       "  </thead>\n",
       "  <tbody>\n",
       "    <tr>\n",
       "      <th>1927</th>\n",
       "      <td>6294</td>\n",
       "      <td>2012-01-19</td>\n",
       "      <td>Jeopardy!</td>\n",
       "      <td>...</td>\n",
       "      <td>the chorus of romeo  juliet tells us its in th...</td>\n",
       "      <td>verona</td>\n",
       "      <td>600</td>\n",
       "    </tr>\n",
       "    <tr>\n",
       "      <th>39123</th>\n",
       "      <td>5032</td>\n",
       "      <td>2006-06-27</td>\n",
       "      <td>Double Jeopardy!</td>\n",
       "      <td>...</td>\n",
       "      <td>there are 2 kinds of this creature soft  hard ...</td>\n",
       "      <td>ticks</td>\n",
       "      <td>800</td>\n",
       "    </tr>\n",
       "  </tbody>\n",
       "</table>\n",
       "<p>2 rows × 10 columns</p>\n",
       "</div>"
      ],
      "text/plain": [
       "       show_number   air_date             round     ...      \\\n",
       "1927          6294 2012-01-19         Jeopardy!     ...       \n",
       "39123         5032 2006-06-27  Double Jeopardy!     ...       \n",
       "\n",
       "                                          clean_question clean_answer  \\\n",
       "1927   the chorus of romeo  juliet tells us its in th...       verona   \n",
       "39123  there are 2 kinds of this creature soft  hard ...        ticks   \n",
       "\n",
       "      clean_value  \n",
       "1927          600  \n",
       "39123         800  \n",
       "\n",
       "[2 rows x 10 columns]"
      ]
     },
     "execution_count": 31,
     "metadata": {},
     "output_type": "execute_result"
    }
   ],
   "source": [
    "jeopardy.sample(2)"
   ]
  },
  {
   "cell_type": "code",
   "execution_count": 19,
   "metadata": {
    "collapsed": false
   },
   "outputs": [
    {
     "data": {
      "text/plain": [
       "0                                                copernicus\n",
       "1                                                jim thorpe\n",
       "2                                                   arizona\n",
       "3                                                 mcdonalds\n",
       "4                                                john adams\n",
       "5                                                   the ant\n",
       "6                                            the appian way\n",
       "7                                            michael jordan\n",
       "8                                                washington\n",
       "9                                             crate  barrel\n",
       "10                                           jackie gleason\n",
       "11                                                  the cud\n",
       "12                                      ceylon or sri lanka\n",
       "13                                                jim brown\n",
       "14                                             the uv index\n",
       "15                                                   bulova\n",
       "16                                              jesse james\n",
       "17                                                      imp\n",
       "18                                        the international\n",
       "19                                               lou gehrig\n",
       "20                                                  morocco\n",
       "21                                              paul bonwit\n",
       "22        hattie mcdaniel for her role in gone with the ...\n",
       "23                                                      era\n",
       "24                                       the congress party\n",
       "25                                         wilt chamberlain\n",
       "26                                                       k2\n",
       "27                                              ethan allen\n",
       "28                                                      ply\n",
       "29                                                   horton\n",
       "                                ...                        \n",
       "216900                                         alec baldwin\n",
       "216901                                               samson\n",
       "216902                                             the teal\n",
       "216903                                               africa\n",
       "216904                                        ronald reagan\n",
       "216905                                             budapest\n",
       "216906                                            amsterdam\n",
       "216907                                                  man\n",
       "216908                                             a toucan\n",
       "216909                                       allen ginsberg\n",
       "216910                                         muhammad ali\n",
       "216911                                                 oslo\n",
       "216912                                           siddhartha\n",
       "216913                                         edward elgar\n",
       "216914                                               a tern\n",
       "216915                                 erle stanley gardner\n",
       "216916                                                 work\n",
       "216917                                           georgetown\n",
       "216918                                           fanny hill\n",
       "216919                                             magritte\n",
       "216920                                             thrushes\n",
       "216921                                            anaïs nin\n",
       "216922                                    margaret thatcher\n",
       "216923                                           paramaribo\n",
       "216924                                                stomp\n",
       "216925                                             turandot\n",
       "216926                                           a titmouse\n",
       "216927                                         clive barker\n",
       "216928                                             geronimo\n",
       "216929                       grigori alexandrovich potemkin\n",
       "Name: answer, dtype: object"
      ]
     },
     "execution_count": 19,
     "metadata": {},
     "output_type": "execute_result"
    }
   ],
   "source": [
    "(jeopardy[['question','answer']]\n",
    "                                 #.question\n",
    "                                 #.apply(clean)\n",
    "                                 .answer\n",
    "                                 .apply(clean)\n",
    ")"
   ]
  },
  {
   "cell_type": "code",
   "execution_count": null,
   "metadata": {
    "collapsed": true
   },
   "outputs": [],
   "source": []
  },
  {
   "cell_type": "code",
   "execution_count": null,
   "metadata": {
    "collapsed": true
   },
   "outputs": [],
   "source": []
  },
  {
   "cell_type": "code",
   "execution_count": null,
   "metadata": {
    "collapsed": true
   },
   "outputs": [],
   "source": []
  },
  {
   "cell_type": "code",
   "execution_count": null,
   "metadata": {
    "collapsed": true
   },
   "outputs": [],
   "source": []
  },
  {
   "cell_type": "code",
   "execution_count": null,
   "metadata": {
    "collapsed": false
   },
   "outputs": [],
   "source": [
    "def splitS(Series):\n",
    "    try:\n",
    "        return Series.str.split(\" \")\n",
    "    except:\n",
    "        return 0\n",
    "\n",
    "def removeS(Series,rm_string):\n",
    "    try:\n",
    "        for k,v in Series.iteritems():\n",
    "            v.remove(rm_string)\n",
    "        return 0\n",
    "    except:\n",
    "        return 1"
   ]
  },
  {
   "cell_type": "code",
   "execution_count": null,
   "metadata": {
    "collapsed": false
   },
   "outputs": [],
   "source": [
    "jeopardy['split_answer'] = splitS(jeopardy.clean_answer)\n",
    "jeopardy['split_question'] = splitS(jeopardy.clean_question)"
   ]
  },
  {
   "cell_type": "code",
   "execution_count": null,
   "metadata": {
    "collapsed": false
   },
   "outputs": [],
   "source": [
    "#Picking out a 'the' in jeopardy.split_question column of dataframe:\n",
    "jeopardy.split_question.loc[:3]"
   ]
  },
  {
   "cell_type": "code",
   "execution_count": null,
   "metadata": {
    "collapsed": false
   },
   "outputs": [],
   "source": [
    "test = removeS(jeopardy.split_question,'the')\n",
    "answer = removeS(jeopardy.split_answer,'the')"
   ]
  },
  {
   "cell_type": "code",
   "execution_count": null,
   "metadata": {
    "collapsed": false
   },
   "outputs": [],
   "source": [
    "def matching_function(df):\n",
    "    match_count = 0\n",
    "    split_question = splitS(df['clean_question'])\n",
    "    split_answer = splitS(df['clean_answer'])\n",
    "    remove_the = removeS(split_question,'the')\n",
    "    remove_the = removeS(split_answer,'the')\n",
    "    return split_question,split_answer\n",
    "    "
   ]
  },
  {
   "cell_type": "code",
   "execution_count": null,
   "metadata": {
    "collapsed": false
   },
   "outputs": [],
   "source": [
    "X, Y = matching_function(jeopardy[['clean_question','clean_answer']])"
   ]
  },
  {
   "cell_type": "code",
   "execution_count": null,
   "metadata": {
    "collapsed": false
   },
   "outputs": [],
   "source": [
    "X.loc[0] , Y.loc[0]"
   ]
  },
  {
   "cell_type": "code",
   "execution_count": null,
   "metadata": {
    "collapsed": false
   },
   "outputs": [],
   "source": [
    "test, answer"
   ]
  },
  {
   "cell_type": "code",
   "execution_count": null,
   "metadata": {
    "collapsed": false
   },
   "outputs": [],
   "source": []
  },
  {
   "cell_type": "code",
   "execution_count": null,
   "metadata": {
    "collapsed": false
   },
   "outputs": [],
   "source": []
  },
  {
   "cell_type": "code",
   "execution_count": null,
   "metadata": {
    "collapsed": false
   },
   "outputs": [],
   "source": []
  },
  {
   "cell_type": "code",
   "execution_count": null,
   "metadata": {
    "collapsed": true
   },
   "outputs": [],
   "source": []
  }
 ],
 "metadata": {
  "kernelspec": {
   "display_name": "Python 2",
   "language": "python",
   "name": "python2"
  },
  "language_info": {
   "codemirror_mode": {
    "name": "ipython",
    "version": 2
   },
   "file_extension": ".py",
   "mimetype": "text/x-python",
   "name": "python",
   "nbconvert_exporter": "python",
   "pygments_lexer": "ipython2",
   "version": "2.7.11"
  }
 },
 "nbformat": 4,
 "nbformat_minor": 0
}

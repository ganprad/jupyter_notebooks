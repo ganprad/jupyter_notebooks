{
 "cells": [
  {
   "cell_type": "code",
   "execution_count": 1,
   "metadata": {
    "collapsed": true
   },
   "outputs": [],
   "source": [
    "import pandas as pd\n",
    "import numpy as np\n",
    "from sklearn.tree import DecisionTreeClassifier\n",
    "from sklearn.ensemble import RandomForestClassifier\n",
    "from sklearn.cross_validation import cross_val_score\n",
    "from sklearn.datasets import load_iris\n",
    "from sklearn.metrics import roc_auc_score"
   ]
  },
  {
   "cell_type": "code",
   "execution_count": 2,
   "metadata": {
    "collapsed": true
   },
   "outputs": [],
   "source": [
    "income = pd.read_pickle('income_df')"
   ]
  },
  {
   "cell_type": "code",
   "execution_count": 3,
   "metadata": {
    "collapsed": true
   },
   "outputs": [],
   "source": [
    "columns = [\"age\", \"workclass\", \"education_num\", \n",
    "           \"marital_status\", \"occupation\", \n",
    "           \"relationship\", \"race\", \"sex\", \n",
    "           \"hours_per_week\", \"native_country\"]"
   ]
  },
  {
   "cell_type": "code",
   "execution_count": 4,
   "metadata": {
    "collapsed": false
   },
   "outputs": [
    {
     "data": {
      "text/html": [
       "<div>\n",
       "<table border=\"1\" class=\"dataframe\">\n",
       "  <thead>\n",
       "    <tr style=\"text-align: right;\">\n",
       "      <th></th>\n",
       "      <th>age</th>\n",
       "      <th>workclass</th>\n",
       "      <th>fnlwgt</th>\n",
       "      <th>education</th>\n",
       "      <th>education_num</th>\n",
       "      <th>marital_status</th>\n",
       "      <th>occupation</th>\n",
       "      <th>relationship</th>\n",
       "      <th>race</th>\n",
       "      <th>sex</th>\n",
       "      <th>capital_gain</th>\n",
       "      <th>capital_loss</th>\n",
       "      <th>hours_per_week</th>\n",
       "      <th>native_country</th>\n",
       "      <th>high_income</th>\n",
       "    </tr>\n",
       "  </thead>\n",
       "  <tbody>\n",
       "    <tr>\n",
       "      <th>19980</th>\n",
       "      <td>22</td>\n",
       "      <td>4</td>\n",
       "      <td>216867</td>\n",
       "      <td>4</td>\n",
       "      <td>3</td>\n",
       "      <td>2</td>\n",
       "      <td>3</td>\n",
       "      <td>0</td>\n",
       "      <td>4</td>\n",
       "      <td>1</td>\n",
       "      <td>0</td>\n",
       "      <td>0</td>\n",
       "      <td>48</td>\n",
       "      <td>26</td>\n",
       "      <td>0</td>\n",
       "    </tr>\n",
       "    <tr>\n",
       "      <th>23950</th>\n",
       "      <td>37</td>\n",
       "      <td>2</td>\n",
       "      <td>327120</td>\n",
       "      <td>15</td>\n",
       "      <td>10</td>\n",
       "      <td>2</td>\n",
       "      <td>14</td>\n",
       "      <td>0</td>\n",
       "      <td>4</td>\n",
       "      <td>1</td>\n",
       "      <td>0</td>\n",
       "      <td>0</td>\n",
       "      <td>30</td>\n",
       "      <td>39</td>\n",
       "      <td>0</td>\n",
       "    </tr>\n",
       "    <tr>\n",
       "      <th>31448</th>\n",
       "      <td>28</td>\n",
       "      <td>4</td>\n",
       "      <td>207513</td>\n",
       "      <td>9</td>\n",
       "      <td>13</td>\n",
       "      <td>2</td>\n",
       "      <td>12</td>\n",
       "      <td>0</td>\n",
       "      <td>4</td>\n",
       "      <td>1</td>\n",
       "      <td>7298</td>\n",
       "      <td>0</td>\n",
       "      <td>42</td>\n",
       "      <td>39</td>\n",
       "      <td>1</td>\n",
       "    </tr>\n",
       "    <tr>\n",
       "      <th>5356</th>\n",
       "      <td>38</td>\n",
       "      <td>4</td>\n",
       "      <td>204756</td>\n",
       "      <td>11</td>\n",
       "      <td>9</td>\n",
       "      <td>4</td>\n",
       "      <td>12</td>\n",
       "      <td>3</td>\n",
       "      <td>4</td>\n",
       "      <td>0</td>\n",
       "      <td>0</td>\n",
       "      <td>0</td>\n",
       "      <td>40</td>\n",
       "      <td>39</td>\n",
       "      <td>0</td>\n",
       "    </tr>\n",
       "    <tr>\n",
       "      <th>29785</th>\n",
       "      <td>28</td>\n",
       "      <td>4</td>\n",
       "      <td>227840</td>\n",
       "      <td>11</td>\n",
       "      <td>9</td>\n",
       "      <td>4</td>\n",
       "      <td>14</td>\n",
       "      <td>1</td>\n",
       "      <td>4</td>\n",
       "      <td>0</td>\n",
       "      <td>0</td>\n",
       "      <td>0</td>\n",
       "      <td>40</td>\n",
       "      <td>39</td>\n",
       "      <td>0</td>\n",
       "    </tr>\n",
       "    <tr>\n",
       "      <th>29451</th>\n",
       "      <td>32</td>\n",
       "      <td>6</td>\n",
       "      <td>62272</td>\n",
       "      <td>11</td>\n",
       "      <td>9</td>\n",
       "      <td>0</td>\n",
       "      <td>4</td>\n",
       "      <td>4</td>\n",
       "      <td>4</td>\n",
       "      <td>0</td>\n",
       "      <td>0</td>\n",
       "      <td>0</td>\n",
       "      <td>40</td>\n",
       "      <td>39</td>\n",
       "      <td>0</td>\n",
       "    </tr>\n",
       "    <tr>\n",
       "      <th>14171</th>\n",
       "      <td>34</td>\n",
       "      <td>4</td>\n",
       "      <td>162814</td>\n",
       "      <td>11</td>\n",
       "      <td>9</td>\n",
       "      <td>0</td>\n",
       "      <td>11</td>\n",
       "      <td>1</td>\n",
       "      <td>2</td>\n",
       "      <td>1</td>\n",
       "      <td>0</td>\n",
       "      <td>0</td>\n",
       "      <td>45</td>\n",
       "      <td>39</td>\n",
       "      <td>0</td>\n",
       "    </tr>\n",
       "    <tr>\n",
       "      <th>13228</th>\n",
       "      <td>43</td>\n",
       "      <td>4</td>\n",
       "      <td>145441</td>\n",
       "      <td>9</td>\n",
       "      <td>13</td>\n",
       "      <td>2</td>\n",
       "      <td>4</td>\n",
       "      <td>0</td>\n",
       "      <td>4</td>\n",
       "      <td>1</td>\n",
       "      <td>0</td>\n",
       "      <td>0</td>\n",
       "      <td>50</td>\n",
       "      <td>39</td>\n",
       "      <td>1</td>\n",
       "    </tr>\n",
       "    <tr>\n",
       "      <th>5637</th>\n",
       "      <td>19</td>\n",
       "      <td>4</td>\n",
       "      <td>63363</td>\n",
       "      <td>15</td>\n",
       "      <td>10</td>\n",
       "      <td>4</td>\n",
       "      <td>12</td>\n",
       "      <td>3</td>\n",
       "      <td>4</td>\n",
       "      <td>0</td>\n",
       "      <td>0</td>\n",
       "      <td>0</td>\n",
       "      <td>30</td>\n",
       "      <td>39</td>\n",
       "      <td>0</td>\n",
       "    </tr>\n",
       "    <tr>\n",
       "      <th>31964</th>\n",
       "      <td>24</td>\n",
       "      <td>4</td>\n",
       "      <td>175586</td>\n",
       "      <td>11</td>\n",
       "      <td>9</td>\n",
       "      <td>4</td>\n",
       "      <td>7</td>\n",
       "      <td>4</td>\n",
       "      <td>2</td>\n",
       "      <td>0</td>\n",
       "      <td>0</td>\n",
       "      <td>0</td>\n",
       "      <td>40</td>\n",
       "      <td>39</td>\n",
       "      <td>0</td>\n",
       "    </tr>\n",
       "  </tbody>\n",
       "</table>\n",
       "</div>"
      ],
      "text/plain": [
       "       age  workclass  fnlwgt  education  education_num  marital_status  \\\n",
       "19980   22          4  216867          4              3               2   \n",
       "23950   37          2  327120         15             10               2   \n",
       "31448   28          4  207513          9             13               2   \n",
       "5356    38          4  204756         11              9               4   \n",
       "29785   28          4  227840         11              9               4   \n",
       "29451   32          6   62272         11              9               0   \n",
       "14171   34          4  162814         11              9               0   \n",
       "13228   43          4  145441          9             13               2   \n",
       "5637    19          4   63363         15             10               4   \n",
       "31964   24          4  175586         11              9               4   \n",
       "\n",
       "       occupation  relationship  race  sex  capital_gain  capital_loss  \\\n",
       "19980           3             0     4    1             0             0   \n",
       "23950          14             0     4    1             0             0   \n",
       "31448          12             0     4    1          7298             0   \n",
       "5356           12             3     4    0             0             0   \n",
       "29785          14             1     4    0             0             0   \n",
       "29451           4             4     4    0             0             0   \n",
       "14171          11             1     2    1             0             0   \n",
       "13228           4             0     4    1             0             0   \n",
       "5637           12             3     4    0             0             0   \n",
       "31964           7             4     2    0             0             0   \n",
       "\n",
       "       hours_per_week  native_country  high_income  \n",
       "19980              48              26            0  \n",
       "23950              30              39            0  \n",
       "31448              42              39            1  \n",
       "5356               40              39            0  \n",
       "29785              40              39            0  \n",
       "29451              40              39            0  \n",
       "14171              45              39            0  \n",
       "13228              50              39            1  \n",
       "5637               30              39            0  \n",
       "31964              40              39            0  "
      ]
     },
     "execution_count": 4,
     "metadata": {},
     "output_type": "execute_result"
    }
   ],
   "source": [
    "income.sample(10)"
   ]
  },
  {
   "cell_type": "code",
   "execution_count": 5,
   "metadata": {
    "collapsed": true
   },
   "outputs": [],
   "source": [
    "clf = DecisionTreeClassifier(random_state=1)"
   ]
  },
  {
   "cell_type": "code",
   "execution_count": 6,
   "metadata": {
    "collapsed": false
   },
   "outputs": [],
   "source": [
    "np.random.seed(1)\n",
    "\n",
    "# Shuffle the rows.  This first permutes the index randomly using \n",
    "#numpy.random.permutation.\n",
    "# Then, it reindexes the dataframe with this.\n",
    "# The net effect is to put the rows into random order.\n",
    "income = income.reindex(np.random.permutation(income.index))\n",
    "train_max_row = np.int(income.shape[0] * .8)"
   ]
  },
  {
   "cell_type": "code",
   "execution_count": 7,
   "metadata": {
    "collapsed": false
   },
   "outputs": [
    {
     "data": {
      "text/plain": [
       "26048"
      ]
     },
     "execution_count": 7,
     "metadata": {},
     "output_type": "execute_result"
    }
   ],
   "source": [
    "train_max_row"
   ]
  },
  {
   "cell_type": "code",
   "execution_count": 8,
   "metadata": {
    "collapsed": false
   },
   "outputs": [],
   "source": [
    "train = income.iloc[:train_max_row]\n",
    "test = income.iloc[train_max_row:]\n"
   ]
  },
  {
   "cell_type": "code",
   "execution_count": 9,
   "metadata": {
    "collapsed": false
   },
   "outputs": [
    {
     "data": {
      "text/plain": [
       "DecisionTreeClassifier(class_weight=None, criterion='gini', max_depth=None,\n",
       "            max_features=None, max_leaf_nodes=None, min_samples_leaf=1,\n",
       "            min_samples_split=2, min_weight_fraction_leaf=0.0,\n",
       "            presort=False, random_state=1, splitter='best')"
      ]
     },
     "execution_count": 9,
     "metadata": {},
     "output_type": "execute_result"
    }
   ],
   "source": [
    "clf.fit(train[columns],train['high_income'])"
   ]
  },
  {
   "cell_type": "code",
   "execution_count": 10,
   "metadata": {
    "collapsed": false
   },
   "outputs": [],
   "source": [
    "predictions = clf.predict(test[columns])"
   ]
  },
  {
   "cell_type": "code",
   "execution_count": 11,
   "metadata": {
    "collapsed": false
   },
   "outputs": [
    {
     "name": "stdout",
     "output_type": "stream",
     "text": [
      "Test AUC: 0.693\n"
     ]
    }
   ],
   "source": [
    "error = roc_auc_score(test['high_income'],predictions)\n",
    "print('Test AUC: {0:.3f}'.format(error))"
   ]
  },
  {
   "cell_type": "code",
   "execution_count": 12,
   "metadata": {
    "collapsed": false
   },
   "outputs": [
    {
     "name": "stdout",
     "output_type": "stream",
     "text": [
      "Train AUC: 0.947\n"
     ]
    }
   ],
   "source": [
    "\n",
    "train_predictions = clf.predict(train[columns])\n",
    "error = roc_auc_score(train['high_income'],train_predictions)\n",
    "print('Train AUC: {0:.3f}'.format(error))"
   ]
  },
  {
   "cell_type": "code",
   "execution_count": 13,
   "metadata": {
    "collapsed": false
   },
   "outputs": [
    {
     "data": {
      "text/plain": [
       "DecisionTreeClassifier(class_weight=None, criterion='gini', max_depth=None,\n",
       "            max_features=None, max_leaf_nodes=None, min_samples_leaf=1,\n",
       "            min_samples_split=13, min_weight_fraction_leaf=0.0,\n",
       "            presort=False, random_state=1, splitter='best')"
      ]
     },
     "execution_count": 13,
     "metadata": {},
     "output_type": "execute_result"
    }
   ],
   "source": [
    "'''Changing min_samples_split. This means that a node remain a leaf till\n",
    "the number of rows assigned to it are less than 13. Once the number of rows\n",
    "exceed 13 it will be split.'''\n",
    "\n",
    "clf = DecisionTreeClassifier(random_state=1,min_samples_split=13)\n",
    "clf.fit(train[columns],train['high_income'])"
   ]
  },
  {
   "cell_type": "code",
   "execution_count": 14,
   "metadata": {
    "collapsed": false
   },
   "outputs": [
    {
     "name": "stdout",
     "output_type": "stream",
     "text": [
      "Test AUC: 0.947\n"
     ]
    }
   ],
   "source": [
    "predictions = clf.predict(test[columns])\n",
    "test_auc = roc_auc_score(test['high_income'],predictions)\n",
    "print('Test AUC: {0:.3f}'.format(error))"
   ]
  },
  {
   "cell_type": "code",
   "execution_count": 15,
   "metadata": {
    "collapsed": false
   },
   "outputs": [
    {
     "name": "stdout",
     "output_type": "stream",
     "text": [
      "Train AUC: 0.842\n"
     ]
    }
   ],
   "source": [
    "train_predictions = clf.predict(train[columns])\n",
    "train_auc = roc_auc_score(train['high_income'],train_predictions)\n",
    "print('Train AUC: {0:.3f}'.format(train_auc))"
   ]
  },
  {
   "cell_type": "code",
   "execution_count": 16,
   "metadata": {
    "collapsed": false
   },
   "outputs": [
    {
     "name": "stdout",
     "output_type": "stream",
     "text": [
      "Test AUC: 0.744\n",
      "Train AUC: 0.748\n"
     ]
    }
   ],
   "source": [
    "clf = DecisionTreeClassifier(random_state=1,min_samples_split=13,\n",
    "                             max_depth=7)\n",
    "\n",
    "clf.fit(train[columns],train['high_income'])\n",
    "predictions = clf.predict(test[columns])\n",
    "test_auc = roc_auc_score(test['high_income'],predictions)\n",
    "print('Test AUC: {0:.3f}'.format(test_auc))\n",
    "\n",
    "train_predictions = clf.predict(train[columns])\n",
    "train_auc = roc_auc_score(train['high_income'],train_predictions)\n",
    "print('Train AUC: {0:.3f}'.format(train_auc))"
   ]
  },
  {
   "cell_type": "markdown",
   "metadata": {},
   "source": [
    "## Bias:\n",
    "\n",
    "- As the min_sample_split = 100 this reduces the depth of the tree.\n",
    "- This causes underfitting as the tree model is too simple for the dataset.\n",
    "- This cause the model to have wrong 'beliefs' about the nature of the dataset."
   ]
  },
  {
   "cell_type": "code",
   "execution_count": 17,
   "metadata": {
    "collapsed": false
   },
   "outputs": [
    {
     "name": "stdout",
     "output_type": "stream",
     "text": [
      "Test AUC: 0.655\n",
      "Train AUC: 0.662\n"
     ]
    }
   ],
   "source": [
    "clf = DecisionTreeClassifier(random_state=1,min_samples_split=100,\n",
    "                             max_depth=2)\n",
    "\n",
    "clf.fit(train[columns],train['high_income'])\n",
    "predictions = clf.predict(test[columns])\n",
    "test_auc = roc_auc_score(test['high_income'],predictions)\n",
    "print('Test AUC: {0:.3f}'.format(test_auc))\n",
    "\n",
    "train_predictions = clf.predict(train[columns])\n",
    "train_auc = roc_auc_score(train['high_income'],train_predictions)\n",
    "print('Train AUC: {0:.3f}'.format(train_auc))"
   ]
  },
  {
   "cell_type": "markdown",
   "metadata": {},
   "source": [
    "## Tree Variance:\n",
    "\n",
    "- Decision Trees tend overfit data.\n",
    "- Their predictions are influenced by variance in input data.\n",
    "- Small changes in input data cause huge changes in the predictions.\n",
    "- Adding some noise to the input data illustrates this point."
   ]
  },
  {
   "cell_type": "code",
   "execution_count": 18,
   "metadata": {
    "collapsed": false
   },
   "outputs": [
    {
     "name": "stdout",
     "output_type": "stream",
     "text": [
      "Test Error: 0.691\n",
      "Train Error: 0.975\n"
     ]
    }
   ],
   "source": [
    "np.random.seed(1)\n",
    "\n",
    "# Generate a column with random numbers from 0 to 4.\n",
    "income[\"noise\"] = np.random.randint(4, size=income.shape[0])\n",
    "\n",
    "# Adjust columns to include the noise column.\n",
    "columns = [\"noise\", \"age\", \"workclass\", \"education_num\", \"marital_status\", \"occupation\", \"relationship\", \"race\", \"sex\", \"hours_per_week\", \"native_country\"]\n",
    "\n",
    "# Make new train and test sets.\n",
    "train_max_row = np.int(income.shape[0] * .8)\n",
    "train = income.iloc[:train_max_row]\n",
    "test = income.iloc[train_max_row:]\n",
    "\n",
    "# Initialize the classifier.\n",
    "clf = DecisionTreeClassifier(random_state=1)\n",
    "\n",
    "clf.fit(train[columns],train['high_income'])\n",
    "predictions = clf.predict(test[columns])\n",
    "test_auc = roc_auc_score(test['high_income'],predictions)\n",
    "print('Test Error: {0:.3f}'.format(test_auc))\n",
    "\n",
    "train_predictions = clf.predict(train[columns])\n",
    "train_auc = roc_auc_score(train['high_income'],train_predictions)\n",
    "print('Train Error: {0:.3f}'.format(train_auc))"
   ]
  },
  {
   "cell_type": "markdown",
   "metadata": {},
   "source": [
    "## Ensemble Models:"
   ]
  },
  {
   "cell_type": "code",
   "execution_count": 19,
   "metadata": {
    "collapsed": false
   },
   "outputs": [
    {
     "data": {
      "text/plain": [
       "DecisionTreeClassifier(class_weight=None, criterion='gini', max_depth=5,\n",
       "            max_features=None, max_leaf_nodes=None, min_samples_leaf=1,\n",
       "            min_samples_split=2, min_weight_fraction_leaf=0.0,\n",
       "            presort=False, random_state=1, splitter='best')"
      ]
     },
     "execution_count": 19,
     "metadata": {},
     "output_type": "execute_result"
    }
   ],
   "source": [
    "columns = [\"age\", \"workclass\", \"education_num\", \"marital_status\", \"occupation\", \"relationship\", \"race\", \"sex\", \"hours_per_week\", \"native_country\"]\n",
    "\n",
    "clf = DecisionTreeClassifier(random_state=1, min_samples_leaf=2)\n",
    "clf.fit(train[columns], train[\"high_income\"])\n",
    "\n",
    "clf2 = DecisionTreeClassifier(random_state=1, max_depth=5)\n",
    "clf2.fit(train[columns], train[\"high_income\"])"
   ]
  },
  {
   "cell_type": "code",
   "execution_count": 20,
   "metadata": {
    "collapsed": false
   },
   "outputs": [
    {
     "name": "stdout",
     "output_type": "stream",
     "text": [
      "Test Error: 0.68790\n",
      "Train Error: 0.85595\n"
     ]
    }
   ],
   "source": [
    "clf.fit(train[columns],train['high_income'])\n",
    "predictions = clf.predict(test[columns])\n",
    "test_auc = roc_auc_score(test['high_income'],predictions)\n",
    "print('Test Error: {0:.5f}'.format(test_auc))\n",
    "\n",
    "train_predictions = clf.predict(train[columns])\n",
    "train_auc = roc_auc_score(train['high_income'],train_predictions)\n",
    "print('Train Error: {0:.5f}'.format(train_auc))"
   ]
  },
  {
   "cell_type": "code",
   "execution_count": 21,
   "metadata": {
    "collapsed": false
   },
   "outputs": [
    {
     "name": "stdout",
     "output_type": "stream",
     "text": [
      "Test Error: 0.67599\n",
      "Train Error: 0.68334\n"
     ]
    },
    {
     "data": {
      "text/plain": [
       "array([0, 0, 0, ..., 0, 0, 1], dtype=int8)"
      ]
     },
     "execution_count": 21,
     "metadata": {},
     "output_type": "execute_result"
    }
   ],
   "source": [
    "\n",
    "clf2.fit(train[columns],train['high_income'])\n",
    "predictions = clf2.predict(test[columns])\n",
    "test_auc = roc_auc_score(test['high_income'],predictions)\n",
    "print('Test Error: {0:.5f}'.format(test_auc))\n",
    "\n",
    "train_predictions = clf2.predict(train[columns])\n",
    "train_auc = roc_auc_score(train['high_income'],train_predictions)\n",
    "print('Train Error: {0:.5f}'.format(train_auc))\n",
    "predictions"
   ]
  },
  {
   "cell_type": "code",
   "execution_count": 22,
   "metadata": {
    "collapsed": false
   },
   "outputs": [],
   "source": [
    "predictions = clf.predict_proba(test[columns])[:,1]\n",
    "predictions2 = clf2.predict_proba(test[columns])[:,1]"
   ]
  },
  {
   "cell_type": "code",
   "execution_count": 23,
   "metadata": {
    "collapsed": false
   },
   "outputs": [],
   "source": [
    "avg_predictions = np.round(0.5*(predictions+predictions2))"
   ]
  },
  {
   "cell_type": "code",
   "execution_count": 29,
   "metadata": {
    "collapsed": false
   },
   "outputs": [
    {
     "data": {
      "text/plain": [
       "0.71508468040388817"
      ]
     },
     "execution_count": 29,
     "metadata": {},
     "output_type": "execute_result"
    }
   ],
   "source": [
    "roc_auc_score(test['high_income'],avg_predictions)"
   ]
  },
  {
   "cell_type": "markdown",
   "metadata": {},
   "source": [
    "## Bagging and random feature subsets:"
   ]
  },
  {
   "cell_type": "code",
   "execution_count": 25,
   "metadata": {
    "collapsed": false
   },
   "outputs": [
    {
     "name": "stdout",
     "output_type": "stream",
     "text": [
      "0.7345958638\n"
     ]
    }
   ],
   "source": [
    "# Building 10 trees\n",
    "# Each \"bag\" will have 60% of the number of original rows.\n",
    "tree_count = 10\n",
    "bag_proportion = .6\n",
    "\n",
    "predictions = []\n",
    "for i in range(tree_count):\n",
    "    # We select 60% of the rows from train, sampling with replacement.\n",
    "    # We set a random state to ensure we'll be able to replicate our results.\n",
    "    # We set it to i instead of a fixed value so we don't get the same sample every loop.\n",
    "    # That would make all of our trees the same.\n",
    "    bag = train.sample(frac=bag_proportion,\n",
    "                       replace=True, \n",
    "                       random_state=i)\n",
    "    \n",
    "    # Fit a decision tree model to the \"bag\".\n",
    "    clf = DecisionTreeClassifier(random_state=1,min_samples_leaf=2,\n",
    "                                 splitter='random',\n",
    "                                 max_features=\"auto\")\n",
    "    \n",
    "    clf.fit(bag[columns], bag[\"high_income\"])\n",
    "    \n",
    "    # Using the model, make predictions on the test data.\n",
    "    predictions.append(clf.predict_proba(test[columns])[:,1])\n",
    "    \n",
    "#Taking the mean and rounding to 0 or 1\n",
    "combined_pred = np.round(np.mean(np.array(predictions),axis=0))\n",
    "print(roc_auc_score(test['high_income'],combined_pred))"
   ]
  },
  {
   "cell_type": "markdown",
   "metadata": {},
   "source": [
    "## Random Forest Classifier:"
   ]
  },
  {
   "cell_type": "code",
   "execution_count": 30,
   "metadata": {
    "collapsed": true
   },
   "outputs": [],
   "source": [
    "clf = RandomForestClassifier(n_estimators=5,\n",
    "                             random_state=1,\n",
    "                             min_samples_leaf=2)"
   ]
  },
  {
   "cell_type": "code",
   "execution_count": 31,
   "metadata": {
    "collapsed": false
   },
   "outputs": [
    {
     "name": "stdout",
     "output_type": "stream",
     "text": [
      "Test AUC: 0.73475\n",
      "Train AUC: 0.84084\n"
     ]
    }
   ],
   "source": [
    "clf.fit(train[columns],train['high_income'])\n",
    "predictions = clf.predict(test[columns])\n",
    "test_auc = roc_auc_score(test['high_income'],predictions)\n",
    "print('Test AUC: {0:.5f}'.format(test_auc))\n",
    "\n",
    "train_predictions = clf.predict(train[columns])\n",
    "train_auc = roc_auc_score(train['high_income'],train_predictions)\n",
    "print('Train AUC: {0:.5f}'.format(train_auc))"
   ]
  },
  {
   "cell_type": "code",
   "execution_count": null,
   "metadata": {
    "collapsed": true
   },
   "outputs": [],
   "source": []
  }
 ],
 "metadata": {
  "anaconda-cloud": {},
  "kernelspec": {
   "display_name": "Python [default]",
   "language": "python",
   "name": "python3"
  },
  "language_info": {
   "codemirror_mode": {
    "name": "ipython",
    "version": 3
   },
   "file_extension": ".py",
   "mimetype": "text/x-python",
   "name": "python",
   "nbconvert_exporter": "python",
   "pygments_lexer": "ipython3",
   "version": "3.5.2"
  }
 },
 "nbformat": 4,
 "nbformat_minor": 0
}

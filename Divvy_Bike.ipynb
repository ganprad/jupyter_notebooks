{
 "cells": [
  {
   "cell_type": "code",
   "execution_count": 1,
   "metadata": {
    "collapsed": false
   },
   "outputs": [],
   "source": [
    "import requests\n",
    "import pandas as pd\n",
    "\n",
    "import numpy as np\n",
    "from pandas.io.json import json_normalize\n",
    "import matplotlib.pyplot as plt\n",
    "import sqlite3 as lite\n",
    "import time\n",
    "from dateutil.parser import parse\n",
    "import collections"
   ]
  },
  {
   "cell_type": "code",
   "execution_count": 2,
   "metadata": {
    "collapsed": true
   },
   "outputs": [],
   "source": [
    "r = requests.get('https://www.divvybikes.com/stations/json')"
   ]
  },
  {
   "cell_type": "code",
   "execution_count": 3,
   "metadata": {
    "collapsed": false
   },
   "outputs": [
    {
     "data": {
      "text/plain": [
       "{'X-Powered-By': 'PHP/5.4.45', 'Transfer-Encoding': 'chunked', 'Content-Encoding': 'gzip', 'Vary': 'Accept-Encoding,User-Agent', 'Connection': 'close', 'Server': 'Apache/2.2.15 (Red Hat)', 'Last-Modified': 'Thu, 09 Jun 2016 21:41:02 GMT', 'x-version': '1.0', 'Date': 'Thu, 09 Jun 2016 21:41:39 GMT', 'Content-Type': 'application/json'}"
      ]
     },
     "execution_count": 3,
     "metadata": {},
     "output_type": "execute_result"
    }
   ],
   "source": [
    "r.headers"
   ]
  },
  {
   "cell_type": "code",
   "execution_count": 4,
   "metadata": {
    "collapsed": true
   },
   "outputs": [],
   "source": [
    "key_list = [] #unique list of keys for each station listing\n",
    "for station in r.json()['stationBeanList']:\n",
    "    for k in station.keys():\n",
    "        if k not in key_list:\n",
    "            key_list.append(k)"
   ]
  },
  {
   "cell_type": "code",
   "execution_count": 5,
   "metadata": {
    "collapsed": false
   },
   "outputs": [
    {
     "data": {
      "text/plain": [
       "u'2016-06-09 04:41:02 PM'"
      ]
     },
     "execution_count": 5,
     "metadata": {},
     "output_type": "execute_result"
    }
   ],
   "source": [
    "r.json()['executionTime']"
   ]
  },
  {
   "cell_type": "code",
   "execution_count": 6,
   "metadata": {
    "collapsed": false
   },
   "outputs": [
    {
     "data": {
      "text/plain": [
       "{u'altitude': u'',\n",
       " u'availableBikes': 5,\n",
       " u'availableDocks': 28,\n",
       " u'city': u'Chicago',\n",
       " u'id': 2,\n",
       " u'is_renting': True,\n",
       " u'landMark': u'541',\n",
       " u'lastCommunicationTime': u'06/09/2016 04:40:20 PM',\n",
       " u'latitude': 41.876428,\n",
       " u'location': u'',\n",
       " u'longitude': -87.620339,\n",
       " u'postalCode': u'',\n",
       " u'stAddress1': u'Buckingham Fountain',\n",
       " u'stAddress2': u'',\n",
       " u'stationName': u'Buckingham Fountain',\n",
       " u'status': u'IN_SERVICE',\n",
       " u'statusKey': 1,\n",
       " u'statusValue': u'In Service',\n",
       " u'testStation': False,\n",
       " u'totalDocks': 35}"
      ]
     },
     "execution_count": 6,
     "metadata": {},
     "output_type": "execute_result"
    }
   ],
   "source": [
    "r.json()['stationBeanList'][0]"
   ]
  },
  {
   "cell_type": "code",
   "execution_count": 7,
   "metadata": {
    "collapsed": false
   },
   "outputs": [
    {
     "data": {
      "text/plain": [
       "[u'executionTime', u'stationBeanList']"
      ]
     },
     "execution_count": 7,
     "metadata": {},
     "output_type": "execute_result"
    }
   ],
   "source": [
    "r.json().keys()"
   ]
  },
  {
   "cell_type": "code",
   "execution_count": 8,
   "metadata": {
    "collapsed": false
   },
   "outputs": [],
   "source": [
    "unique=[]\n",
    "A = [(station.keys(),station.values()) for station in r.json()['stationBeanList']]"
   ]
  },
  {
   "cell_type": "code",
   "execution_count": 9,
   "metadata": {
    "collapsed": false
   },
   "outputs": [
    {
     "data": {
      "text/html": [
       "<div>\n",
       "<table border=\"1\" class=\"dataframe\">\n",
       "  <thead>\n",
       "    <tr style=\"text-align: right;\">\n",
       "      <th></th>\n",
       "      <th>altitude</th>\n",
       "      <th>availableBikes</th>\n",
       "      <th>availableDocks</th>\n",
       "      <th>city</th>\n",
       "      <th>id</th>\n",
       "      <th>is_renting</th>\n",
       "      <th>landMark</th>\n",
       "      <th>lastCommunicationTime</th>\n",
       "      <th>latitude</th>\n",
       "      <th>location</th>\n",
       "      <th>longitude</th>\n",
       "      <th>postalCode</th>\n",
       "      <th>stAddress1</th>\n",
       "      <th>stAddress2</th>\n",
       "      <th>stationName</th>\n",
       "      <th>status</th>\n",
       "      <th>statusKey</th>\n",
       "      <th>statusValue</th>\n",
       "      <th>testStation</th>\n",
       "      <th>totalDocks</th>\n",
       "    </tr>\n",
       "  </thead>\n",
       "  <tbody>\n",
       "    <tr>\n",
       "      <th>0</th>\n",
       "      <td></td>\n",
       "      <td>5</td>\n",
       "      <td>28</td>\n",
       "      <td>Chicago</td>\n",
       "      <td>2</td>\n",
       "      <td>True</td>\n",
       "      <td>541</td>\n",
       "      <td>06/09/2016 04:40:20 PM</td>\n",
       "      <td>41.876428</td>\n",
       "      <td></td>\n",
       "      <td>-87.620339</td>\n",
       "      <td></td>\n",
       "      <td>Buckingham Fountain</td>\n",
       "      <td></td>\n",
       "      <td>Buckingham Fountain</td>\n",
       "      <td>IN_SERVICE</td>\n",
       "      <td>1</td>\n",
       "      <td>In Service</td>\n",
       "      <td>False</td>\n",
       "      <td>35</td>\n",
       "    </tr>\n",
       "    <tr>\n",
       "      <th>1</th>\n",
       "      <td></td>\n",
       "      <td>0</td>\n",
       "      <td>31</td>\n",
       "      <td>Chicago</td>\n",
       "      <td>3</td>\n",
       "      <td>True</td>\n",
       "      <td>544</td>\n",
       "      <td>06/09/2016 04:37:01 PM</td>\n",
       "      <td>41.867226</td>\n",
       "      <td></td>\n",
       "      <td>-87.615355</td>\n",
       "      <td></td>\n",
       "      <td>Shedd Aquarium</td>\n",
       "      <td></td>\n",
       "      <td>Shedd Aquarium</td>\n",
       "      <td>IN_SERVICE</td>\n",
       "      <td>1</td>\n",
       "      <td>In Service</td>\n",
       "      <td>False</td>\n",
       "      <td>31</td>\n",
       "    </tr>\n",
       "    <tr>\n",
       "      <th>2</th>\n",
       "      <td></td>\n",
       "      <td>13</td>\n",
       "      <td>9</td>\n",
       "      <td>Chicago</td>\n",
       "      <td>4</td>\n",
       "      <td>True</td>\n",
       "      <td>545</td>\n",
       "      <td>06/09/2016 04:36:54 PM</td>\n",
       "      <td>41.856268</td>\n",
       "      <td></td>\n",
       "      <td>-87.613348</td>\n",
       "      <td></td>\n",
       "      <td>Burnham Harbor</td>\n",
       "      <td></td>\n",
       "      <td>Burnham Harbor</td>\n",
       "      <td>IN_SERVICE</td>\n",
       "      <td>1</td>\n",
       "      <td>In Service</td>\n",
       "      <td>False</td>\n",
       "      <td>23</td>\n",
       "    </tr>\n",
       "    <tr>\n",
       "      <th>3</th>\n",
       "      <td></td>\n",
       "      <td>5</td>\n",
       "      <td>17</td>\n",
       "      <td></td>\n",
       "      <td>5</td>\n",
       "      <td>True</td>\n",
       "      <td>030</td>\n",
       "      <td>06/09/2016 04:38:16 PM</td>\n",
       "      <td>41.874053</td>\n",
       "      <td>620 S. State St.</td>\n",
       "      <td>-87.627716</td>\n",
       "      <td></td>\n",
       "      <td>State St &amp; Harrison St</td>\n",
       "      <td></td>\n",
       "      <td>State St &amp; Harrison St</td>\n",
       "      <td>IN_SERVICE</td>\n",
       "      <td>1</td>\n",
       "      <td>In Service</td>\n",
       "      <td>False</td>\n",
       "      <td>23</td>\n",
       "    </tr>\n",
       "    <tr>\n",
       "      <th>4</th>\n",
       "      <td></td>\n",
       "      <td>2</td>\n",
       "      <td>28</td>\n",
       "      <td>Chicago</td>\n",
       "      <td>6</td>\n",
       "      <td>True</td>\n",
       "      <td>548</td>\n",
       "      <td>06/09/2016 04:37:32 PM</td>\n",
       "      <td>41.885042</td>\n",
       "      <td></td>\n",
       "      <td>-87.612795</td>\n",
       "      <td></td>\n",
       "      <td>Dusable Harbor</td>\n",
       "      <td></td>\n",
       "      <td>Dusable Harbor</td>\n",
       "      <td>IN_SERVICE</td>\n",
       "      <td>1</td>\n",
       "      <td>In Service</td>\n",
       "      <td>False</td>\n",
       "      <td>31</td>\n",
       "    </tr>\n",
       "    <tr>\n",
       "      <th>5</th>\n",
       "      <td></td>\n",
       "      <td>15</td>\n",
       "      <td>3</td>\n",
       "      <td>Chicago</td>\n",
       "      <td>7</td>\n",
       "      <td>True</td>\n",
       "      <td>534</td>\n",
       "      <td>06/09/2016 04:39:37 PM</td>\n",
       "      <td>41.886349</td>\n",
       "      <td></td>\n",
       "      <td>-87.617517</td>\n",
       "      <td></td>\n",
       "      <td>Field Blvd &amp; South Water St</td>\n",
       "      <td></td>\n",
       "      <td>Field Blvd &amp; South Water St</td>\n",
       "      <td>IN_SERVICE</td>\n",
       "      <td>1</td>\n",
       "      <td>In Service</td>\n",
       "      <td>False</td>\n",
       "      <td>19</td>\n",
       "    </tr>\n",
       "    <tr>\n",
       "      <th>6</th>\n",
       "      <td></td>\n",
       "      <td>8</td>\n",
       "      <td>11</td>\n",
       "      <td>Chicago</td>\n",
       "      <td>9</td>\n",
       "      <td>True</td>\n",
       "      <td>695</td>\n",
       "      <td>06/09/2016 04:40:26 PM</td>\n",
       "      <td>41.828792</td>\n",
       "      <td>NA1</td>\n",
       "      <td>-87.680604</td>\n",
       "      <td></td>\n",
       "      <td>Leavitt St &amp; Archer Ave</td>\n",
       "      <td></td>\n",
       "      <td>Leavitt St &amp; Archer Ave</td>\n",
       "      <td>IN_SERVICE</td>\n",
       "      <td>1</td>\n",
       "      <td>In Service</td>\n",
       "      <td>False</td>\n",
       "      <td>19</td>\n",
       "    </tr>\n",
       "    <tr>\n",
       "      <th>7</th>\n",
       "      <td></td>\n",
       "      <td>6</td>\n",
       "      <td>4</td>\n",
       "      <td>Chicago</td>\n",
       "      <td>11</td>\n",
       "      <td>True</td>\n",
       "      <td>496</td>\n",
       "      <td>06/09/2016 04:38:43 PM</td>\n",
       "      <td>41.766638</td>\n",
       "      <td></td>\n",
       "      <td>-87.576450</td>\n",
       "      <td></td>\n",
       "      <td>Jeffery Blvd &amp; 71st St</td>\n",
       "      <td></td>\n",
       "      <td>Jeffery Blvd &amp; 71st St</td>\n",
       "      <td>IN_SERVICE</td>\n",
       "      <td>1</td>\n",
       "      <td>In Service</td>\n",
       "      <td>False</td>\n",
       "      <td>11</td>\n",
       "    </tr>\n",
       "    <tr>\n",
       "      <th>8</th>\n",
       "      <td></td>\n",
       "      <td>6</td>\n",
       "      <td>8</td>\n",
       "      <td>Chicago</td>\n",
       "      <td>12</td>\n",
       "      <td>True</td>\n",
       "      <td>497</td>\n",
       "      <td>06/09/2016 04:36:21 PM</td>\n",
       "      <td>41.766409</td>\n",
       "      <td>MLSW</td>\n",
       "      <td>-87.565688</td>\n",
       "      <td></td>\n",
       "      <td>South Shore Dr &amp; 71st St</td>\n",
       "      <td></td>\n",
       "      <td>South Shore Dr &amp; 71st St</td>\n",
       "      <td>IN_SERVICE</td>\n",
       "      <td>1</td>\n",
       "      <td>In Service</td>\n",
       "      <td>False</td>\n",
       "      <td>15</td>\n",
       "    </tr>\n",
       "    <tr>\n",
       "      <th>9</th>\n",
       "      <td></td>\n",
       "      <td>14</td>\n",
       "      <td>11</td>\n",
       "      <td>Chicago</td>\n",
       "      <td>13</td>\n",
       "      <td>True</td>\n",
       "      <td>066</td>\n",
       "      <td>06/09/2016 04:37:31 PM</td>\n",
       "      <td>41.932418</td>\n",
       "      <td>2790 N.Wilton Ave</td>\n",
       "      <td>-87.652705</td>\n",
       "      <td></td>\n",
       "      <td>Wilton Ave &amp; Diversey Pkwy</td>\n",
       "      <td></td>\n",
       "      <td>Wilton Ave &amp; Diversey Pkwy</td>\n",
       "      <td>IN_SERVICE</td>\n",
       "      <td>1</td>\n",
       "      <td>In Service</td>\n",
       "      <td>False</td>\n",
       "      <td>27</td>\n",
       "    </tr>\n",
       "  </tbody>\n",
       "</table>\n",
       "</div>"
      ],
      "text/plain": [
       "  altitude  availableBikes  availableDocks     city  id is_renting landMark  \\\n",
       "0                        5              28  Chicago   2       True      541   \n",
       "1                        0              31  Chicago   3       True      544   \n",
       "2                       13               9  Chicago   4       True      545   \n",
       "3                        5              17            5       True      030   \n",
       "4                        2              28  Chicago   6       True      548   \n",
       "5                       15               3  Chicago   7       True      534   \n",
       "6                        8              11  Chicago   9       True      695   \n",
       "7                        6               4  Chicago  11       True      496   \n",
       "8                        6               8  Chicago  12       True      497   \n",
       "9                       14              11  Chicago  13       True      066   \n",
       "\n",
       "    lastCommunicationTime   latitude           location  longitude postalCode  \\\n",
       "0  06/09/2016 04:40:20 PM  41.876428                    -87.620339              \n",
       "1  06/09/2016 04:37:01 PM  41.867226                    -87.615355              \n",
       "2  06/09/2016 04:36:54 PM  41.856268                    -87.613348              \n",
       "3  06/09/2016 04:38:16 PM  41.874053   620 S. State St. -87.627716              \n",
       "4  06/09/2016 04:37:32 PM  41.885042                    -87.612795              \n",
       "5  06/09/2016 04:39:37 PM  41.886349                    -87.617517              \n",
       "6  06/09/2016 04:40:26 PM  41.828792                NA1 -87.680604              \n",
       "7  06/09/2016 04:38:43 PM  41.766638                    -87.576450              \n",
       "8  06/09/2016 04:36:21 PM  41.766409               MLSW -87.565688              \n",
       "9  06/09/2016 04:37:31 PM  41.932418  2790 N.Wilton Ave -87.652705              \n",
       "\n",
       "                    stAddress1 stAddress2                  stationName  \\\n",
       "0          Buckingham Fountain                     Buckingham Fountain   \n",
       "1               Shedd Aquarium                          Shedd Aquarium   \n",
       "2               Burnham Harbor                          Burnham Harbor   \n",
       "3       State St & Harrison St                  State St & Harrison St   \n",
       "4               Dusable Harbor                          Dusable Harbor   \n",
       "5  Field Blvd & South Water St             Field Blvd & South Water St   \n",
       "6      Leavitt St & Archer Ave                 Leavitt St & Archer Ave   \n",
       "7       Jeffery Blvd & 71st St                  Jeffery Blvd & 71st St   \n",
       "8     South Shore Dr & 71st St                South Shore Dr & 71st St   \n",
       "9   Wilton Ave & Diversey Pkwy              Wilton Ave & Diversey Pkwy   \n",
       "\n",
       "       status  statusKey statusValue testStation  totalDocks  \n",
       "0  IN_SERVICE          1  In Service       False          35  \n",
       "1  IN_SERVICE          1  In Service       False          31  \n",
       "2  IN_SERVICE          1  In Service       False          23  \n",
       "3  IN_SERVICE          1  In Service       False          23  \n",
       "4  IN_SERVICE          1  In Service       False          31  \n",
       "5  IN_SERVICE          1  In Service       False          19  \n",
       "6  IN_SERVICE          1  In Service       False          19  \n",
       "7  IN_SERVICE          1  In Service       False          11  \n",
       "8  IN_SERVICE          1  In Service       False          15  \n",
       "9  IN_SERVICE          1  In Service       False          27  "
      ]
     },
     "execution_count": 9,
     "metadata": {},
     "output_type": "execute_result"
    }
   ],
   "source": [
    "df = json_normalize(r.json()['stationBeanList'])\n",
    "df.head(10)"
   ]
  },
  {
   "cell_type": "code",
   "execution_count": 10,
   "metadata": {
    "collapsed": false
   },
   "outputs": [
    {
     "ename": "NameError",
     "evalue": "name 'ref_vars' is not defined",
     "output_type": "error",
     "traceback": [
      "\u001b[1;31m---------------------------------------------------------------------------\u001b[0m",
      "\u001b[1;31mNameError\u001b[0m                                 Traceback (most recent call last)",
      "\u001b[1;32m<ipython-input-10-968df7df7200>\u001b[0m in \u001b[0;36m<module>\u001b[1;34m()\u001b[0m\n\u001b[0;32m      1\u001b[0m \u001b[0mA\u001b[0m \u001b[1;33m=\u001b[0m \u001b[0mr\u001b[0m\u001b[1;33m.\u001b[0m\u001b[0mjson\u001b[0m\u001b[1;33m(\u001b[0m\u001b[1;33m)\u001b[0m\u001b[1;33m[\u001b[0m\u001b[1;34m'stationBeanList'\u001b[0m\u001b[1;33m]\u001b[0m\u001b[1;33m[\u001b[0m\u001b[1;36m0\u001b[0m\u001b[1;33m]\u001b[0m\u001b[1;33m\u001b[0m\u001b[0m\n\u001b[0;32m      2\u001b[0m \u001b[0mA\u001b[0m\u001b[1;33m[\u001b[0m\u001b[1;34m'id'\u001b[0m\u001b[1;33m]\u001b[0m\u001b[1;33m,\u001b[0m\u001b[0mA\u001b[0m\u001b[1;33m[\u001b[0m\u001b[1;34m'totalDocks'\u001b[0m\u001b[1;33m]\u001b[0m\u001b[1;33m\u001b[0m\u001b[0m\n\u001b[1;32m----> 3\u001b[1;33m \u001b[0mtuple\u001b[0m\u001b[1;33m(\u001b[0m\u001b[1;33m[\u001b[0m\u001b[0mA\u001b[0m\u001b[1;33m[\u001b[0m\u001b[0mref_vars\u001b[0m\u001b[1;33m[\u001b[0m\u001b[0mx\u001b[0m\u001b[1;33m]\u001b[0m\u001b[1;33m]\u001b[0m \u001b[1;32mfor\u001b[0m \u001b[0mx\u001b[0m \u001b[1;32min\u001b[0m \u001b[0mrange\u001b[0m\u001b[1;33m(\u001b[0m\u001b[0mlen\u001b[0m\u001b[1;33m(\u001b[0m\u001b[0mref_vars\u001b[0m\u001b[1;33m)\u001b[0m\u001b[1;33m)\u001b[0m\u001b[1;33m]\u001b[0m\u001b[1;33m)\u001b[0m\u001b[1;33m\u001b[0m\u001b[0m\n\u001b[0m",
      "\u001b[1;31mNameError\u001b[0m: name 'ref_vars' is not defined"
     ]
    }
   ],
   "source": [
    "A = r.json()['stationBeanList'][0]\n",
    "A['id'],A['totalDocks']\n",
    "tuple([A[ref_vars[x]] for x in range(len(ref_vars))])"
   ]
  },
  {
   "cell_type": "code",
   "execution_count": null,
   "metadata": {
    "collapsed": false
   },
   "outputs": [],
   "source": [
    "len(ref_vars)"
   ]
  },
  {
   "cell_type": "code",
   "execution_count": null,
   "metadata": {
    "collapsed": false
   },
   "outputs": [],
   "source": [
    "df['availableBikes'].hist()\n",
    "plt.show()"
   ]
  },
  {
   "cell_type": "code",
   "execution_count": 16,
   "metadata": {
    "collapsed": true
   },
   "outputs": [],
   "source": [
    "df['totalDocks'].hist()\n",
    "plt.show()"
   ]
  },
  {
   "cell_type": "code",
   "execution_count": 33,
   "metadata": {
    "collapsed": false
   },
   "outputs": [
    {
     "data": {
      "text/html": [
       "<div>\n",
       "<table border=\"1\" class=\"dataframe\">\n",
       "  <thead>\n",
       "    <tr style=\"text-align: right;\">\n",
       "      <th></th>\n",
       "      <th>altitude</th>\n",
       "      <th>availableBikes</th>\n",
       "      <th>availableDocks</th>\n",
       "      <th>city</th>\n",
       "      <th>id</th>\n",
       "      <th>landMark</th>\n",
       "      <th>lastCommunicationTime</th>\n",
       "      <th>latitude</th>\n",
       "      <th>location</th>\n",
       "      <th>longitude</th>\n",
       "      <th>postalCode</th>\n",
       "      <th>stAddress1</th>\n",
       "      <th>stAddress2</th>\n",
       "      <th>stationName</th>\n",
       "      <th>statusKey</th>\n",
       "      <th>statusValue</th>\n",
       "      <th>testStation</th>\n",
       "      <th>totalDocks</th>\n",
       "    </tr>\n",
       "  </thead>\n",
       "  <tbody>\n",
       "  </tbody>\n",
       "</table>\n",
       "</div>"
      ],
      "text/plain": [
       "Empty DataFrame\n",
       "Columns: [altitude, availableBikes, availableDocks, city, id, landMark, lastCommunicationTime, latitude, location, longitude, postalCode, stAddress1, stAddress2, stationName, statusKey, statusValue, testStation, totalDocks]\n",
       "Index: []"
      ]
     },
     "execution_count": 33,
     "metadata": {},
     "output_type": "execute_result"
    }
   ],
   "source": [
    "df[df['statusKey']>1]"
   ]
  },
  {
   "cell_type": "code",
   "execution_count": 58,
   "metadata": {
    "collapsed": false
   },
   "outputs": [
    {
     "data": {
      "text/plain": [
       "(17.52, 15.0)"
      ]
     },
     "execution_count": 58,
     "metadata": {},
     "output_type": "execute_result"
    }
   ],
   "source": [
    "df['totalDocks'].mean() , df['totalDocks'].median()"
   ]
  },
  {
   "cell_type": "code",
   "execution_count": 40,
   "metadata": {
    "collapsed": false
   },
   "outputs": [
    {
     "data": {
      "text/plain": [
       "6.671578947368421"
      ]
     },
     "execution_count": 40,
     "metadata": {},
     "output_type": "execute_result"
    }
   ],
   "source": [
    "df['availableBikes'].mean()"
   ]
  },
  {
   "cell_type": "code",
   "execution_count": 41,
   "metadata": {
    "collapsed": false
   },
   "outputs": [
    {
     "data": {
      "text/plain": [
       "6.0"
      ]
     },
     "execution_count": 41,
     "metadata": {},
     "output_type": "execute_result"
    }
   ],
   "source": [
    "df['availableBikes'].median()"
   ]
  },
  {
   "cell_type": "code",
   "execution_count": 19,
   "metadata": {
    "collapsed": false
   },
   "outputs": [
    {
     "data": {
      "text/plain": [
       "7.0"
      ]
     },
     "execution_count": 19,
     "metadata": {},
     "output_type": "execute_result"
    }
   ],
   "source": [
    "#Median number of available bikes in In service stations\n",
    "df[df['statusValue']=='In Service']['availableBikes'].median()"
   ]
  },
  {
   "cell_type": "code",
   "execution_count": 74,
   "metadata": {
    "collapsed": false
   },
   "outputs": [],
   "source": [
    "df1 =df\n",
    "df2 = df['availableBikes']"
   ]
  },
  {
   "cell_type": "code",
   "execution_count": 4,
   "metadata": {
    "collapsed": false
   },
   "outputs": [],
   "source": [
    "sql = '''CREATE TABLE citibike_reference (\n",
    "    id INT PRIMARY KEY,\n",
    "    totalDocks INT,\n",
    "    city TEXT,\n",
    "    altitude INT, \n",
    "    stAddress2 TEXT,\n",
    "    longitude NUMERIC,\n",
    "    postalCode TEXT,\n",
    "    testStation TEXT,\n",
    "    stAddress1 TEXT,\n",
    "    stationName TEXT,\n",
    "    landMark TEXT,\n",
    "    latitude NUMERIC,\n",
    "    location TEXT\n",
    ")'''"
   ]
  },
  {
   "cell_type": "code",
   "execution_count": 3,
   "metadata": {
    "collapsed": false
   },
   "outputs": [],
   "source": [
    "con = lite.connect('divvy_bike.db')\n",
    "cur = con.cursor()"
   ]
  },
  {
   "cell_type": "code",
   "execution_count": 11,
   "metadata": {
    "collapsed": true
   },
   "outputs": [],
   "source": [
    "with con:\n",
    "    cur.execute(sql)"
   ]
  },
  {
   "cell_type": "code",
   "execution_count": 19,
   "metadata": {
    "collapsed": false
   },
   "outputs": [],
   "source": [
    "insert_sql = '''INSERT INTO citibike_reference \n",
    "(id, totalDocks, city, altitude, stAddress2, longitude, \n",
    "postalCode, testStation, stAddress1, stationName, landMark, \n",
    "latitude, location) VALUES (?,?,?,?,?,?,?,?,?,?,?,?,?)'''\n",
    "\n",
    "ref_variables = tuple(['id', 'totalDocks', 'city', 'altitude', 'stAddress2', \n",
    "              'longitude', 'postalCode', 'testStation', 'stAddress1', \n",
    "              'stationName', 'landMark', 'latitude', 'location'])\n",
    "I=[]\n",
    "for i in ref_variables:\n",
    "    I.append(unicode(i))"
   ]
  },
  {
   "cell_type": "code",
   "execution_count": 20,
   "metadata": {
    "collapsed": false
   },
   "outputs": [],
   "source": [
    "#[station[I[11]] for station in rjson['stationBeanList']]\n"
   ]
  },
  {
   "cell_type": "code",
   "execution_count": 21,
   "metadata": {
    "collapsed": false
   },
   "outputs": [],
   "source": [
    "#Input list of unique station keys for each station. \n",
    "#This list is the same for all stations\n",
    "A = [np.int(station['id']) for station in r.json()['stationBeanList']]\n",
    "B = [station for station in r.json()['stationBeanList']]"
   ]
  },
  {
   "cell_type": "code",
   "execution_count": 22,
   "metadata": {
    "collapsed": false
   },
   "outputs": [
    {
     "ename": "IntegrityError",
     "evalue": "UNIQUE constraint failed: citibike_reference.id",
     "output_type": "error",
     "traceback": [
      "\u001b[1;31m---------------------------------------------------------------------------\u001b[0m",
      "\u001b[1;31mIntegrityError\u001b[0m                            Traceback (most recent call last)",
      "\u001b[1;32m<ipython-input-22-f9f8bdf1be72>\u001b[0m in \u001b[0;36m<module>\u001b[1;34m()\u001b[0m\n\u001b[0;32m      7\u001b[0m                     \u001b[0mstation\u001b[0m\u001b[1;33m[\u001b[0m\u001b[1;34m'testStation'\u001b[0m\u001b[1;33m]\u001b[0m\u001b[1;33m,\u001b[0m\u001b[0mstation\u001b[0m\u001b[1;33m[\u001b[0m\u001b[1;34m'stAddress1'\u001b[0m\u001b[1;33m]\u001b[0m\u001b[1;33m,\u001b[0m\u001b[1;33m\u001b[0m\u001b[0m\n\u001b[0;32m      8\u001b[0m                     \u001b[0mstation\u001b[0m\u001b[1;33m[\u001b[0m\u001b[1;34m'stationName'\u001b[0m\u001b[1;33m]\u001b[0m\u001b[1;33m,\u001b[0m\u001b[0mstation\u001b[0m\u001b[1;33m[\u001b[0m\u001b[1;34m'landMark'\u001b[0m\u001b[1;33m]\u001b[0m\u001b[1;33m,\u001b[0m\u001b[1;33m\u001b[0m\u001b[0m\n\u001b[1;32m----> 9\u001b[1;33m                     station['latitude'],station['location']))\n\u001b[0m",
      "\u001b[1;31mIntegrityError\u001b[0m: UNIQUE constraint failed: citibike_reference.id"
     ]
    }
   ],
   "source": [
    "with con:\n",
    "    for station in r.json()['stationBeanList']:\n",
    "        cur.execute(sql,(station['id'],station['totalDocks'],\n",
    "                    station['city'],station['altitude'],\n",
    "                    station['stAddress2'],\n",
    "                    station['longitude'],station['postalCode'],\n",
    "                    station['testStation'],station['stAddress1'],\n",
    "                    station['stationName'],station['landMark'],\n",
    "                    station['latitude'],station['location']))"
   ]
  },
  {
   "cell_type": "code",
   "execution_count": 4,
   "metadata": {
    "collapsed": false
   },
   "outputs": [],
   "source": [
    "station_ids = df['id'].tolist()"
   ]
  },
  {
   "cell_type": "code",
   "execution_count": null,
   "metadata": {
    "collapsed": true
   },
   "outputs": [],
   "source": []
  },
  {
   "cell_type": "code",
   "execution_count": 5,
   "metadata": {
    "collapsed": false
   },
   "outputs": [],
   "source": [
    "station_ids = ['_' + str(x) + ' INT' for x in station_ids]"
   ]
  },
  {
   "cell_type": "code",
   "execution_count": 2,
   "metadata": {
    "collapsed": false
   },
   "outputs": [
    {
     "ename": "NameError",
     "evalue": "name 'station_ids' is not defined",
     "output_type": "error",
     "traceback": [
      "\u001b[1;31m---------------------------------------------------------------------------\u001b[0m",
      "\u001b[1;31mNameError\u001b[0m                                 Traceback (most recent call last)",
      "\u001b[1;32m<ipython-input-2-d9fdf052fc39>\u001b[0m in \u001b[0;36m<module>\u001b[1;34m()\u001b[0m\n\u001b[0;32m      1\u001b[0m \u001b[1;31m#cur.execute string, attaching the station_ids list\u001b[0m\u001b[1;33m\u001b[0m\u001b[1;33m\u001b[0m\u001b[0m\n\u001b[1;32m----> 2\u001b[1;33m \u001b[0mS\u001b[0m \u001b[1;33m=\u001b[0m \u001b[1;34m\"create table available_bikes(execution_time INT, \"\u001b[0m\u001b[1;33m+\u001b[0m\u001b[1;34m\", \"\u001b[0m\u001b[1;33m.\u001b[0m\u001b[0mjoin\u001b[0m\u001b[1;33m(\u001b[0m\u001b[0mstation_ids\u001b[0m\u001b[1;33m)\u001b[0m\u001b[1;33m+\u001b[0m\u001b[1;34m\")\"\u001b[0m\u001b[1;33m\u001b[0m\u001b[0m\n\u001b[0m",
      "\u001b[1;31mNameError\u001b[0m: name 'station_ids' is not defined"
     ]
    }
   ],
   "source": [
    "#cur.execute string, attaching the station_ids list \n",
    "S = \"create table available_bikes(execution_time INT, \"+\", \".join(station_ids)+\")\""
   ]
  },
  {
   "cell_type": "code",
   "execution_count": 18,
   "metadata": {
    "collapsed": false
   },
   "outputs": [],
   "source": [
    "with con:\n",
    "    cur.execute(S)"
   ]
  },
  {
   "cell_type": "code",
   "execution_count": 19,
   "metadata": {
    "collapsed": false
   },
   "outputs": [
    {
     "data": {
      "text/plain": [
       "'1441212181'"
      ]
     },
     "execution_count": 19,
     "metadata": {},
     "output_type": "execute_result"
    }
   ],
   "source": [
    "exec_time = parse(r.json()['executionTime'])\n",
    "exec_time.strftime('%s')"
   ]
  },
  {
   "cell_type": "code",
   "execution_count": 20,
   "metadata": {
    "collapsed": false
   },
   "outputs": [
    {
     "data": {
      "text/plain": [
       "'1441212181'"
      ]
     },
     "execution_count": 20,
     "metadata": {},
     "output_type": "execute_result"
    }
   ],
   "source": [
    "pd_exec_time=pd.to_datetime(r.json()['executionTime'])\n",
    "#pd_exec_time.strftime('%Y-%m-%dT%H:%M:%S')\n",
    "pd_exec_time.strftime('%s')"
   ]
  },
  {
   "cell_type": "code",
   "execution_count": 21,
   "metadata": {
    "collapsed": false
   },
   "outputs": [
    {
     "data": {
      "text/plain": [
       "u'2015-09-02 11:43:01 AM'"
      ]
     },
     "execution_count": 21,
     "metadata": {},
     "output_type": "execute_result"
    }
   ],
   "source": [
    "r.json()['executionTime']"
   ]
  },
  {
   "cell_type": "markdown",
   "metadata": {},
   "source": [
    "Due to differences in operating systems, \n",
    "you may need to check out the documentation for strftime() \n",
    "if you run into errors. Other students have reported that \n",
    "(exec_time - datetime.datetime(1970,1,1)).total_seconds() or \n",
    "replacing %s with %Y-%m-%dT%H:%M:%S works on Windows. \n",
    "As always, refer to the Thinkful Students \n",
    "Community to work with others to get help and squash bugs."
   ]
  },
  {
   "cell_type": "code",
   "execution_count": 22,
   "metadata": {
    "collapsed": true
   },
   "outputs": [],
   "source": [
    "sql = '''INSERT INTO available_bikes \n",
    "(execution_time) VALUES (?)', (exec_time.strftime('%s'),)'''"
   ]
  },
  {
   "cell_type": "code",
   "execution_count": 23,
   "metadata": {
    "collapsed": false
   },
   "outputs": [],
   "source": [
    "with con:\n",
    "    cur.execute('insert into available_bikes (execution_time) values (?)',(exec_time.strftime('%s'),))"
   ]
  },
  {
   "cell_type": "code",
   "execution_count": null,
   "metadata": {
    "collapsed": false
   },
   "outputs": [],
   "source": []
  },
  {
   "cell_type": "code",
   "execution_count": 55,
   "metadata": {
    "collapsed": false
   },
   "outputs": [
    {
     "ename": "AttributeError",
     "evalue": "'module' object has no attribute 'Dataframe'",
     "output_type": "error",
     "traceback": [
      "\u001b[1;31m---------------------------------------------------------------------------\u001b[0m",
      "\u001b[1;31mAttributeError\u001b[0m                            Traceback (most recent call last)",
      "\u001b[1;32m<ipython-input-55-6101bc94b404>\u001b[0m in \u001b[0;36m<module>\u001b[1;34m()\u001b[0m\n\u001b[0;32m      1\u001b[0m \u001b[0mdf\u001b[0m \u001b[1;33m=\u001b[0m \u001b[0mpd\u001b[0m\u001b[1;33m.\u001b[0m\u001b[0mread_json\u001b[0m\u001b[1;33m(\u001b[0m\u001b[0mr\u001b[0m\u001b[1;33m.\u001b[0m\u001b[0mtext\u001b[0m\u001b[1;33m)\u001b[0m\u001b[1;33m\u001b[0m\u001b[0m\n\u001b[1;32m----> 2\u001b[1;33m \u001b[0mpd\u001b[0m\u001b[1;33m.\u001b[0m\u001b[0mDataframe\u001b[0m\u001b[1;33m(\u001b[0m\u001b[0mdf\u001b[0m\u001b[1;33m[\u001b[0m\u001b[1;34m'stationBeanList'\u001b[0m\u001b[1;33m]\u001b[0m\u001b[1;33m,\u001b[0m\u001b[0morient\u001b[0m\u001b[1;33m=\u001b[0m\u001b[1;34m'split'\u001b[0m\u001b[1;33m)\u001b[0m\u001b[1;33m\u001b[0m\u001b[0m\n\u001b[0m",
      "\u001b[1;31mAttributeError\u001b[0m: 'module' object has no attribute 'Dataframe'"
     ]
    }
   ],
   "source": [
    "df = pd.read_json(r.text)\n",
    "pd.Dataframe(df['stationBeanList'],orient='split')"
   ]
  },
  {
   "cell_type": "code",
   "execution_count": null,
   "metadata": {
    "collapsed": false
   },
   "outputs": [],
   "source": []
  },
  {
   "cell_type": "code",
   "execution_count": 7,
   "metadata": {
    "collapsed": false
   },
   "outputs": [
    {
     "name": "stdout",
     "output_type": "stream",
     "text": [
      "Overwriting citybike.py\n"
     ]
    }
   ],
   "source": [
    "#%%file citybike.py\n",
    "#!usr/bin/env python\n",
    "import requests\n",
    "import pandas as pd\n",
    "import numpy as np\n",
    "from pandas.io.json import json_normalize\n",
    "import matplotlib.pyplot as plt\n",
    "import sqlite3 as lite\n",
    "import time\n",
    "from dateutil.parser import parse\n",
    "import collections\n",
    "\n",
    "\n",
    "def load_dataset(loc):\n",
    "    r = requests.get(loc)\n",
    "    return r.json()\n",
    "\n",
    "def preprocess(rjson,**kwargs):\n",
    "    keys = rjson.keys()\n",
    "    df = json_normalize(rjson[kwargs['column']])\n",
    "    return keys , df\n",
    "\n",
    "def drop_table(name):\n",
    "    return 'DROP TABLE IF EXISTS'+' '+name\n",
    "    \n",
    "def create_table(con,**kwargs):\n",
    "    cur = con.cursor()\n",
    "    with con:\n",
    "        cur.execute(kwargs[\"drop_table\"])\n",
    "        cur.execute(kwargs[\"sql_string\"])\n",
    "    print('Database created')\n",
    "\n",
    "def ref_data(con,rjson,**kwargs):\n",
    "    cur = con.cursor()\n",
    "    var = kwargs['ref_vars']\n",
    "    insert_sql='INSERT INTO '+kwargs['table']+' ('+', '.join(var)+') VALUES (?,?,?,?,?,?,?,?,?,?,?,?,?)'\n",
    "    with con:\n",
    "        for station in rjson[kwargs['column']]:\n",
    "            cur.execute(insert_sql,tuple([station[var[i]] for i in range(len(var))]))\n",
    "\n",
    "            \n",
    "def time_data(con,rjson,**kwargs):\n",
    "    cur = con.cursor()\n",
    "    exec_time=pd.to_datetime(rjson[kwargs['column']])\n",
    "    insert_sql='insert into '+kwargs['table']+' ('+kwargs['column']+') values (?)'\n",
    "    id_bikes = collections.defaultdict(int)\n",
    "    for station in rjson['stationBeanList']:\n",
    "        id_bikes[station['id']]=station['availableBikes']\n",
    "    with con:\n",
    "        cur.execute(insert_sql,(exec_time.strftime('%s'),))\n",
    "        for k,v in id_bikes.iteritems():\n",
    "            cur.execute('update available_bikes set _'+str(k)+' = '+str(v)+' where executionTime = '\n",
    "                        + exec_time.strftime('%s')+ ';')\n",
    "    \n",
    "if __name__ =='__main__':\n",
    "    \n",
    "    loc = 'https://www.divvybikes.com/stations/json'\n",
    "    \n",
    "    #JSON output using requests\n",
    "    rjson = load_dataset(loc)\n",
    "    keys, df = preprocess(rjson,column='stationBeanList')\n",
    "    \n",
    "    ref_table_sql='''CREATE TABLE citibike_reference (\n",
    "    id INT PRIMARY KEY,\n",
    "    totalDocks INT,\n",
    "    city TEXT,\n",
    "    altitude INT, \n",
    "    stAddress2 TEXT,\n",
    "    longitude NUMERIC,\n",
    "    postalCode TEXT,\n",
    "    testStation TEXT,\n",
    "    stAddress1 TEXT,\n",
    "    stationName TEXT,\n",
    "    landMark TEXT,\n",
    "    latitude NUMERIC,\n",
    "    location TEXT\n",
    "    )'''\n",
    "    \n",
    "    ref_vars = '''id, totalDocks, city, altitude, stAddress2, longitude, \n",
    "    postalCode, testStation, stAddress1, stationName, landMark, \n",
    "    latitude, location'''.replace('\\n','').replace('    ','').replace(' ','').split(',')\n",
    "                        \n",
    "    #insert_sql = 'INSERT INTO citibike_reference'+' ('+', '.join(ref_vars)+') VALUES (?,?,?,?,?,?,?,?,?,?,?,?,?)'              \n",
    "    \n",
    "    db_name='divvy_bike.db'\n",
    "    \n",
    "    #Create a database\n",
    "    con = lite.connect(db_name)\n",
    "    \n",
    "    #Reference Table\n",
    "    create_table(con,sql_string=ref_table_sql,drop_table=drop_table('citibike_reference'))\n",
    "    ref_data(con,rjson,table='citibike_reference',ref_vars=ref_vars,column='stationBeanList')\n",
    "    \n",
    "    #Time Table\n",
    "    station_ids = df['id'].tolist()\n",
    "    station_ids = ['_' + str(x) + ' INT' for x in station_ids]\n",
    "    \n",
    "    time_table_sql=\"create table available_bikes (executionTime INT, \"+\", \".join(station_ids)+\");\"\n",
    "    \n",
    "    create_table(con,sql_string=time_table_sql,drop_table=drop_table('available_bikes'))\n",
    "    \n",
    "    time_data(con,rjson,table='available_bikes',column='executionTime')\n",
    "    #create_table(con,sql_string=time_table,drop_table=drop_table('available_bikes'))\n",
    "    df1 = pd.read_sql('SELECT * from available_bikes',con)"
   ]
  },
  {
   "cell_type": "code",
   "execution_count": 24,
   "metadata": {
    "collapsed": false
   },
   "outputs": [],
   "source": [
    "ref_vars = '''id, totalDocks, city, altitude, stAddress2, longitude, \n",
    "    postalCode, testStation, stAddress1, stationName, landMark, \n",
    "    latitude, location'''.replace('\\n','').replace('    ','').replace(' ','').split(',')\n"
   ]
  },
  {
   "cell_type": "code",
   "execution_count": 30,
   "metadata": {
    "collapsed": false
   },
   "outputs": [
    {
     "data": {
      "text/plain": [
       "['id',\n",
       " ' totalDocks',\n",
       " ' city',\n",
       " ' altitude',\n",
       " ' stAddress2',\n",
       " ' longitude',\n",
       " '     postalCode',\n",
       " ' testStation',\n",
       " ' stAddress1',\n",
       " ' stationName',\n",
       " ' landMark',\n",
       " '     latitude',\n",
       " ' location']"
      ]
     },
     "execution_count": 30,
     "metadata": {},
     "output_type": "execute_result"
    }
   ],
   "source": [
    "'''id, totalDocks, city, altitude, stAddress2, longitude, \n",
    "    postalCode, testStation, stAddress1, stationName, landMark, \n",
    "    latitude, location'''.replace('\\n','').strip().split(',')"
   ]
  },
  {
   "cell_type": "code",
   "execution_count": 3,
   "metadata": {
    "collapsed": false
   },
   "outputs": [],
   "source": [
    "df1 = pd.read_sql('SELECT * from available_bikes',con)"
   ]
  },
  {
   "cell_type": "code",
   "execution_count": 47,
   "metadata": {
    "collapsed": false
   },
   "outputs": [],
   "source": [
    "t = pd.to_datetime(rjson['executionTime'])\n",
    "cur.execute?"
   ]
  },
  {
   "cell_type": "code",
   "execution_count": 36,
   "metadata": {
    "collapsed": false
   },
   "outputs": [
    {
     "data": {
      "text/plain": [
       "[(2, 6), (3, 9), (4, 7), (5, 15), (6, 7)]"
      ]
     },
     "execution_count": 36,
     "metadata": {},
     "output_type": "execute_result"
    }
   ],
   "source": [
    "[(i['id'],i['availableBikes']) for i in rjson['stationBeanList']][:5]"
   ]
  },
  {
   "cell_type": "code",
   "execution_count": 6,
   "metadata": {
    "collapsed": false
   },
   "outputs": [
    {
     "data": {
      "text/html": [
       "<div>\n",
       "<table border=\"1\" class=\"dataframe\">\n",
       "  <thead>\n",
       "    <tr style=\"text-align: right;\">\n",
       "      <th></th>\n",
       "      <th>executionTime</th>\n",
       "      <th>_2</th>\n",
       "      <th>_3</th>\n",
       "      <th>_4</th>\n",
       "      <th>_5</th>\n",
       "      <th>_6</th>\n",
       "      <th>_7</th>\n",
       "      <th>_9</th>\n",
       "      <th>_11</th>\n",
       "      <th>_12</th>\n",
       "      <th>...</th>\n",
       "      <th>_502</th>\n",
       "      <th>_503</th>\n",
       "      <th>_504</th>\n",
       "      <th>_505</th>\n",
       "      <th>_506</th>\n",
       "      <th>_507</th>\n",
       "      <th>_508</th>\n",
       "      <th>_509</th>\n",
       "      <th>_510</th>\n",
       "      <th>_511</th>\n",
       "    </tr>\n",
       "  </thead>\n",
       "  <tbody>\n",
       "    <tr>\n",
       "      <th>0</th>\n",
       "      <td>1445252882</td>\n",
       "      <td>6</td>\n",
       "      <td>14</td>\n",
       "      <td>13</td>\n",
       "      <td>5</td>\n",
       "      <td>9</td>\n",
       "      <td>14</td>\n",
       "      <td>12</td>\n",
       "      <td>6</td>\n",
       "      <td>10</td>\n",
       "      <td>...</td>\n",
       "      <td>15</td>\n",
       "      <td>10</td>\n",
       "      <td>7</td>\n",
       "      <td>9</td>\n",
       "      <td>3</td>\n",
       "      <td>4</td>\n",
       "      <td>8</td>\n",
       "      <td>5</td>\n",
       "      <td>9</td>\n",
       "      <td>7</td>\n",
       "    </tr>\n",
       "  </tbody>\n",
       "</table>\n",
       "<p>1 rows × 476 columns</p>\n",
       "</div>"
      ],
      "text/plain": [
       "   executionTime  _2  _3  _4  _5  _6  _7  _9  _11  _12  ...   _502  _503  \\\n",
       "0     1445252882   6  14  13   5   9  14  12    6   10  ...     15    10   \n",
       "\n",
       "   _504  _505  _506  _507  _508  _509  _510  _511  \n",
       "0     7     9     3     4     8     5     9     7  \n",
       "\n",
       "[1 rows x 476 columns]"
      ]
     },
     "execution_count": 6,
     "metadata": {},
     "output_type": "execute_result"
    }
   ],
   "source": [
    "df1"
   ]
  },
  {
   "cell_type": "code",
   "execution_count": 66,
   "metadata": {
    "collapsed": false
   },
   "outputs": [
    {
     "data": {
      "text/html": [
       "<div>\n",
       "<table border=\"1\" class=\"dataframe\">\n",
       "  <thead>\n",
       "    <tr style=\"text-align: right;\">\n",
       "      <th></th>\n",
       "      <th>availableBikes</th>\n",
       "      <th>availableDocks</th>\n",
       "      <th>latitude</th>\n",
       "      <th>longitude</th>\n",
       "      <th>statusKey</th>\n",
       "      <th>testStation</th>\n",
       "      <th>totalDocks</th>\n",
       "    </tr>\n",
       "    <tr>\n",
       "      <th>id</th>\n",
       "      <th></th>\n",
       "      <th></th>\n",
       "      <th></th>\n",
       "      <th></th>\n",
       "      <th></th>\n",
       "      <th></th>\n",
       "      <th></th>\n",
       "    </tr>\n",
       "  </thead>\n",
       "  <tbody>\n",
       "    <tr>\n",
       "      <th>2</th>\n",
       "      <td>3</td>\n",
       "      <td>32</td>\n",
       "      <td>41.876428</td>\n",
       "      <td>-87.620339</td>\n",
       "      <td>1</td>\n",
       "      <td>False</td>\n",
       "      <td>35</td>\n",
       "    </tr>\n",
       "    <tr>\n",
       "      <th>3</th>\n",
       "      <td>0</td>\n",
       "      <td>31</td>\n",
       "      <td>41.867226</td>\n",
       "      <td>-87.615355</td>\n",
       "      <td>1</td>\n",
       "      <td>False</td>\n",
       "      <td>31</td>\n",
       "    </tr>\n",
       "    <tr>\n",
       "      <th>4</th>\n",
       "      <td>1</td>\n",
       "      <td>22</td>\n",
       "      <td>41.856268</td>\n",
       "      <td>-87.613348</td>\n",
       "      <td>1</td>\n",
       "      <td>False</td>\n",
       "      <td>23</td>\n",
       "    </tr>\n",
       "    <tr>\n",
       "      <th>5</th>\n",
       "      <td>2</td>\n",
       "      <td>21</td>\n",
       "      <td>41.874053</td>\n",
       "      <td>-87.627716</td>\n",
       "      <td>1</td>\n",
       "      <td>False</td>\n",
       "      <td>23</td>\n",
       "    </tr>\n",
       "    <tr>\n",
       "      <th>6</th>\n",
       "      <td>0</td>\n",
       "      <td>29</td>\n",
       "      <td>41.885042</td>\n",
       "      <td>-87.612795</td>\n",
       "      <td>1</td>\n",
       "      <td>False</td>\n",
       "      <td>31</td>\n",
       "    </tr>\n",
       "    <tr>\n",
       "      <th>7</th>\n",
       "      <td>6</td>\n",
       "      <td>13</td>\n",
       "      <td>41.886349</td>\n",
       "      <td>-87.617517</td>\n",
       "      <td>1</td>\n",
       "      <td>False</td>\n",
       "      <td>19</td>\n",
       "    </tr>\n",
       "    <tr>\n",
       "      <th>9</th>\n",
       "      <td>8</td>\n",
       "      <td>10</td>\n",
       "      <td>41.828792</td>\n",
       "      <td>-87.680604</td>\n",
       "      <td>1</td>\n",
       "      <td>False</td>\n",
       "      <td>19</td>\n",
       "    </tr>\n",
       "    <tr>\n",
       "      <th>11</th>\n",
       "      <td>5</td>\n",
       "      <td>6</td>\n",
       "      <td>41.766638</td>\n",
       "      <td>-87.576450</td>\n",
       "      <td>1</td>\n",
       "      <td>False</td>\n",
       "      <td>11</td>\n",
       "    </tr>\n",
       "    <tr>\n",
       "      <th>12</th>\n",
       "      <td>8</td>\n",
       "      <td>7</td>\n",
       "      <td>41.766409</td>\n",
       "      <td>-87.565688</td>\n",
       "      <td>1</td>\n",
       "      <td>False</td>\n",
       "      <td>15</td>\n",
       "    </tr>\n",
       "    <tr>\n",
       "      <th>13</th>\n",
       "      <td>9</td>\n",
       "      <td>9</td>\n",
       "      <td>41.932500</td>\n",
       "      <td>-87.652681</td>\n",
       "      <td>1</td>\n",
       "      <td>False</td>\n",
       "      <td>19</td>\n",
       "    </tr>\n",
       "  </tbody>\n",
       "</table>\n",
       "</div>"
      ],
      "text/plain": [
       "    availableBikes  availableDocks   latitude  longitude  statusKey  \\\n",
       "id                                                                    \n",
       "2                3              32  41.876428 -87.620339          1   \n",
       "3                0              31  41.867226 -87.615355          1   \n",
       "4                1              22  41.856268 -87.613348          1   \n",
       "5                2              21  41.874053 -87.627716          1   \n",
       "6                0              29  41.885042 -87.612795          1   \n",
       "7                6              13  41.886349 -87.617517          1   \n",
       "9                8              10  41.828792 -87.680604          1   \n",
       "11               5               6  41.766638 -87.576450          1   \n",
       "12               8               7  41.766409 -87.565688          1   \n",
       "13               9               9  41.932500 -87.652681          1   \n",
       "\n",
       "   testStation  totalDocks  \n",
       "id                          \n",
       "2        False          35  \n",
       "3        False          31  \n",
       "4        False          23  \n",
       "5        False          23  \n",
       "6        False          31  \n",
       "7        False          19  \n",
       "9        False          19  \n",
       "11       False          11  \n",
       "12       False          15  \n",
       "13       False          19  "
      ]
     },
     "execution_count": 66,
     "metadata": {},
     "output_type": "execute_result"
    }
   ],
   "source": [
    "df.groupby('id').median().head(10)"
   ]
  },
  {
   "cell_type": "code",
   "execution_count": 17,
   "metadata": {
    "collapsed": false
   },
   "outputs": [],
   "source": [
    "from datetime import datetime\n",
    "datetime.strptime?"
   ]
  },
  {
   "cell_type": "code",
   "execution_count": 71,
   "metadata": {
    "collapsed": false
   },
   "outputs": [],
   "source": [
    "df1 = df.groupby('id').median()\n",
    "#df1.drop(df1.columns[[1,2,3,4,5,6]],1)"
   ]
  },
  {
   "cell_type": "code",
   "execution_count": 56,
   "metadata": {
    "collapsed": false
   },
   "outputs": [
    {
     "ename": "NameError",
     "evalue": "name 'k' is not defined",
     "output_type": "error",
     "traceback": [
      "\u001b[1;31m---------------------------------------------------------------------------\u001b[0m",
      "\u001b[1;31mNameError\u001b[0m                                 Traceback (most recent call last)",
      "\u001b[1;32m<ipython-input-56-7760ca401f70>\u001b[0m in \u001b[0;36m<module>\u001b[1;34m()\u001b[0m\n\u001b[1;32m----> 1\u001b[1;33m \u001b[0mS\u001b[0m \u001b[1;33m=\u001b[0m \u001b[1;34m\"UPDATE available_bikes SET _\"\u001b[0m \u001b[1;33m+\u001b[0m \u001b[0mstr\u001b[0m\u001b[1;33m(\u001b[0m\u001b[0mk\u001b[0m\u001b[1;33m)\u001b[0m \u001b[1;33m+\u001b[0m \u001b[1;34m\" = \"\u001b[0m \u001b[1;33m+\u001b[0m \u001b[0mstr\u001b[0m\u001b[1;33m(\u001b[0m\u001b[0mv\u001b[0m\u001b[1;33m)\u001b[0m \u001b[1;33m+\u001b[0m \u001b[1;34m\" WHERE execution_time = \"\u001b[0m \u001b[1;33m+\u001b[0m \u001b[0mexec_time\u001b[0m\u001b[1;33m.\u001b[0m\u001b[0mstrftime\u001b[0m\u001b[1;33m(\u001b[0m\u001b[1;34m'%s'\u001b[0m\u001b[1;33m)\u001b[0m \u001b[1;33m+\u001b[0m \u001b[1;34m\";\"\u001b[0m\u001b[1;33m\u001b[0m\u001b[0m\n\u001b[0m",
      "\u001b[1;31mNameError\u001b[0m: name 'k' is not defined"
     ]
    }
   ],
   "source": [
    "S = \"UPDATE available_bikes SET _\" + str(k) + \" = \" + str(v) + \" WHERE execution_time = \" + exec_time.strftime('%s') + \";\""
   ]
  },
  {
   "cell_type": "code",
   "execution_count": 65,
   "metadata": {
    "collapsed": false
   },
   "outputs": [],
   "source": [
    "id_bikes = collections.defaultdict(int) #defaultdict to store available bikes by station\n",
    "exec_time=pd.to_datetime(rjson['executionTime'])\n",
    "#loop through the stations in the station list\n",
    "for station in rjson['stationBeanList']:\n",
    "    id_bikes[station['id']] = station['availableBikes']\n",
    "\n",
    "#iterate through the defaultdict to update the values in the database\n",
    "with con:\n",
    "    for k, v in id_bikes.iteritems():\n",
    "        cur.execute(\"UPDATE available_bikes SET _\" + str(k) + \" = \" + str(v) + \" WHERE executionTime = \" + exec_time.strftime('%s') + \";\")\n",
    "        "
   ]
  },
  {
   "cell_type": "code",
   "execution_count": 36,
   "metadata": {
    "collapsed": false
   },
   "outputs": [
    {
     "ename": "KeyError",
     "evalue": "'ref_vars'",
     "output_type": "error",
     "traceback": [
      "\u001b[1;31m---------------------------------------------------------------------------\u001b[0m",
      "\u001b[1;31mKeyError\u001b[0m                                  Traceback (most recent call last)",
      "\u001b[1;32m<ipython-input-36-429443749d5d>\u001b[0m in \u001b[0;36m<module>\u001b[1;34m()\u001b[0m\n\u001b[0;32m      6\u001b[0m             \u001b[0mcur\u001b[0m\u001b[1;33m.\u001b[0m\u001b[0mexecute\u001b[0m\u001b[1;33m(\u001b[0m\u001b[0minsert_sql\u001b[0m\u001b[1;33m,\u001b[0m\u001b[0mtuple\u001b[0m\u001b[1;33m(\u001b[0m\u001b[1;33m[\u001b[0m\u001b[0mstation\u001b[0m\u001b[1;33m[\u001b[0m\u001b[0mvar\u001b[0m\u001b[1;33m[\u001b[0m\u001b[0mi\u001b[0m\u001b[1;33m]\u001b[0m\u001b[1;33m]\u001b[0m \u001b[1;32mfor\u001b[0m \u001b[0mi\u001b[0m \u001b[1;32min\u001b[0m \u001b[0mrange\u001b[0m\u001b[1;33m(\u001b[0m\u001b[0mlen\u001b[0m\u001b[1;33m(\u001b[0m\u001b[0mvar\u001b[0m\u001b[1;33m)\u001b[0m\u001b[1;33m)\u001b[0m\u001b[1;33m]\u001b[0m\u001b[1;33m)\u001b[0m\u001b[1;33m)\u001b[0m\u001b[1;33m\u001b[0m\u001b[0m\n\u001b[0;32m      7\u001b[0m \u001b[1;33m\u001b[0m\u001b[0m\n\u001b[1;32m----> 8\u001b[1;33m \u001b[0minsert_data\u001b[0m\u001b[1;33m(\u001b[0m\u001b[0mcon\u001b[0m\u001b[1;33m,\u001b[0m\u001b[0mcur\u001b[0m\u001b[1;33m,\u001b[0m\u001b[0mrjson\u001b[0m\u001b[1;33m,\u001b[0m\u001b[0mtable\u001b[0m\u001b[1;33m=\u001b[0m\u001b[1;34m'available_bikes'\u001b[0m\u001b[1;33m,\u001b[0m\u001b[0mcolumn\u001b[0m\u001b[1;33m=\u001b[0m\u001b[1;34m'executionTime'\u001b[0m\u001b[1;33m)\u001b[0m\u001b[1;33m\u001b[0m\u001b[0m\n\u001b[0m",
      "\u001b[1;32m<ipython-input-36-429443749d5d>\u001b[0m in \u001b[0;36minsert_data\u001b[1;34m(con, cur, rjson, **kwargs)\u001b[0m\n\u001b[0;32m      1\u001b[0m \u001b[1;32mdef\u001b[0m \u001b[0minsert_data\u001b[0m\u001b[1;33m(\u001b[0m\u001b[0mcon\u001b[0m\u001b[1;33m,\u001b[0m\u001b[0mcur\u001b[0m\u001b[1;33m,\u001b[0m\u001b[0mrjson\u001b[0m\u001b[1;33m,\u001b[0m\u001b[1;33m**\u001b[0m\u001b[0mkwargs\u001b[0m\u001b[1;33m)\u001b[0m\u001b[1;33m:\u001b[0m\u001b[1;33m\u001b[0m\u001b[0m\n\u001b[1;32m----> 2\u001b[1;33m     \u001b[0mvar\u001b[0m \u001b[1;33m=\u001b[0m \u001b[0mkwargs\u001b[0m\u001b[1;33m[\u001b[0m\u001b[1;34m'ref_vars'\u001b[0m\u001b[1;33m]\u001b[0m\u001b[1;33m\u001b[0m\u001b[0m\n\u001b[0m\u001b[0;32m      3\u001b[0m     \u001b[0minsert_sql\u001b[0m\u001b[1;33m=\u001b[0m\u001b[1;34m'INSERT INTO '\u001b[0m\u001b[1;33m+\u001b[0m\u001b[0mkwargs\u001b[0m\u001b[1;33m[\u001b[0m\u001b[1;34m'table'\u001b[0m\u001b[1;33m]\u001b[0m\u001b[1;33m+\u001b[0m\u001b[1;34m' ('\u001b[0m\u001b[1;33m+\u001b[0m\u001b[1;34m', '\u001b[0m\u001b[1;33m.\u001b[0m\u001b[0mjoin\u001b[0m\u001b[1;33m(\u001b[0m\u001b[0mvar\u001b[0m\u001b[1;33m)\u001b[0m\u001b[1;33m+\u001b[0m\u001b[1;34m') VALUES (?,?,?,?,?,?,?,?,?,?,?,?,?)'\u001b[0m\u001b[1;33m\u001b[0m\u001b[0m\n\u001b[0;32m      4\u001b[0m     \u001b[1;32mwith\u001b[0m \u001b[0mcon\u001b[0m\u001b[1;33m:\u001b[0m\u001b[1;33m\u001b[0m\u001b[0m\n\u001b[0;32m      5\u001b[0m         \u001b[1;32mfor\u001b[0m \u001b[0mstation\u001b[0m \u001b[1;32min\u001b[0m \u001b[0mrjson\u001b[0m\u001b[1;33m[\u001b[0m\u001b[0mkwargs\u001b[0m\u001b[1;33m[\u001b[0m\u001b[1;34m'column'\u001b[0m\u001b[1;33m]\u001b[0m\u001b[1;33m]\u001b[0m\u001b[1;33m:\u001b[0m\u001b[1;33m\u001b[0m\u001b[0m\n",
      "\u001b[1;31mKeyError\u001b[0m: 'ref_vars'"
     ]
    }
   ],
   "source": [
    "def insert_data(con,cur,rjson,**kwargs):\n",
    "    var = kwargs['ref_vars']\n",
    "    insert_sql='INSERT INTO '+kwargs['table']+' ('+', '.join(var)+') VALUES (?,?,?,?,?,?,?,?,?,?,?,?,?)'\n",
    "    with con:\n",
    "        for station in rjson[kwargs['column']]:\n",
    "            cur.execute(insert_sql,tuple([station[var[i]] for i in range(len(var))]))\n",
    "    \n",
    "insert_data(con,cur,rjson,table='available_bikes',column='executionTime')"
   ]
  },
  {
   "cell_type": "code",
   "execution_count": 10,
   "metadata": {
    "collapsed": false
   },
   "outputs": [
    {
     "data": {
      "text/plain": [
       "u'2015-09-02 09:37:31 PM'"
      ]
     },
     "execution_count": 10,
     "metadata": {},
     "output_type": "execute_result"
    }
   ],
   "source": [
    "rjson['executionTime']"
   ]
  },
  {
   "cell_type": "code",
   "execution_count": 7,
   "metadata": {
    "collapsed": false
   },
   "outputs": [],
   "source": [
    "station_id_col = [\"_\"+str(x)+' INT' for x in df['id'].tolist()]\n",
    "#station_id_col\n"
   ]
  },
  {
   "cell_type": "code",
   "execution_count": 39,
   "metadata": {
    "collapsed": false
   },
   "outputs": [
    {
     "data": {
      "text/plain": [
       "'INSERT INTO citibike_reference (id, totalDocks, city, altitude, stAddress2, longitude, postalCode, testStation, stAddress1, stationName, landMark, latitude, location) VALUES (?,?,?,?,?,?,?,?,?,?,?,?,?)'"
      ]
     },
     "execution_count": 39,
     "metadata": {},
     "output_type": "execute_result"
    }
   ],
   "source": [
    "insert_sql = 'INSERT INTO citibike_reference'+' ('+', '.join(ref_vars)+') VALUES (?,?,?,?,?,?,?,?,?,?,?,?,?)'\n",
    "insert_sql"
   ]
  },
  {
   "cell_type": "code",
   "execution_count": 43,
   "metadata": {
    "collapsed": false
   },
   "outputs": [
    {
     "data": {
      "text/plain": [
       "['id',\n",
       " 'totalDocks',\n",
       " 'city',\n",
       " 'altitude',\n",
       " 'stAddress2',\n",
       " 'longitude',\n",
       " 'postalCode',\n",
       " 'testStation',\n",
       " 'stAddress1',\n",
       " 'stationName',\n",
       " 'landMark',\n",
       " 'latitude',\n",
       " 'location']"
      ]
     },
     "execution_count": 43,
     "metadata": {},
     "output_type": "execute_result"
    }
   ],
   "source": [
    "ref_vars = '''id, totalDocks, city, altitude, stAddress2, longitude, \n",
    "    postalCode, testStation, stAddress1, stationName, landMark, \n",
    "    latitude, location'''.replace('\\n','').replace('    ','').replace(' ','').split(',')\n",
    "ref_vars"
   ]
  },
  {
   "cell_type": "code",
   "execution_count": 32,
   "metadata": {
    "collapsed": false
   },
   "outputs": [
    {
     "data": {
      "text/plain": [
       "['id',\n",
       " 'totalDocks',\n",
       " 'city',\n",
       " 'altitude',\n",
       " 'stAddress2',\n",
       " 'longitude',\n",
       " 'postalCode',\n",
       " 'testStation',\n",
       " 'stAddress1',\n",
       " 'stationName',\n",
       " 'landMark',\n",
       " 'latitude',\n",
       " 'location']"
      ]
     },
     "execution_count": 32,
     "metadata": {},
     "output_type": "execute_result"
    }
   ],
   "source": [
    "A = dict(ref_vars=ref_vars)\n",
    "A['ref_vars']"
   ]
  },
  {
   "cell_type": "code",
   "execution_count": null,
   "metadata": {
    "collapsed": false
   },
   "outputs": [],
   "source": []
  },
  {
   "cell_type": "code",
   "execution_count": 5,
   "metadata": {
    "collapsed": false
   },
   "outputs": [],
   "source": [
    "def drop_table(name):\n",
    "    return 'DROP TABLE IF EXISTS'+' '+name"
   ]
  },
  {
   "cell_type": "code",
   "execution_count": 5,
   "metadata": {
    "collapsed": false
   },
   "outputs": [],
   "source": [
    "from odo import odo\n",
    "import blaze as blz"
   ]
  },
  {
   "cell_type": "code",
   "execution_count": 8,
   "metadata": {
    "collapsed": false
   },
   "outputs": [
    {
     "ename": "NotImplementedError",
     "evalue": "Unable to parse uri to data resource: /home/gpk/thinkful/divvy_bike.db",
     "output_type": "error",
     "traceback": [
      "\u001b[1;31m---------------------------------------------------------------------------\u001b[0m",
      "\u001b[1;31mNotImplementedError\u001b[0m                       Traceback (most recent call last)",
      "\u001b[1;32m<ipython-input-8-3501043cf265>\u001b[0m in \u001b[0;36m<module>\u001b[1;34m()\u001b[0m\n\u001b[1;32m----> 1\u001b[1;33m \u001b[0mdata\u001b[0m \u001b[1;33m=\u001b[0m \u001b[0mblz\u001b[0m\u001b[1;33m.\u001b[0m\u001b[0mData\u001b[0m\u001b[1;33m(\u001b[0m\u001b[1;34m'/home/gpk/thinkful/divvy_bike.db'\u001b[0m\u001b[1;33m)\u001b[0m\u001b[1;33m\u001b[0m\u001b[0m\n\u001b[0m",
      "\u001b[1;32m/home/gpk/anaconda/lib/python2.7/site-packages/blaze/interactive.pyc\u001b[0m in \u001b[0;36mData\u001b[1;34m(data, dshape, name, fields, columns, schema, **kwargs)\u001b[0m\n\u001b[0;32m     56\u001b[0m             \u001b[0mdata\u001b[0m\u001b[1;33m,\u001b[0m \u001b[0msub_uri\u001b[0m \u001b[1;33m=\u001b[0m \u001b[0mdata\u001b[0m\u001b[1;33m.\u001b[0m\u001b[0msplit\u001b[0m\u001b[1;33m(\u001b[0m\u001b[1;34m'::'\u001b[0m\u001b[1;33m)\u001b[0m\u001b[1;33m\u001b[0m\u001b[0m\n\u001b[0;32m     57\u001b[0m         data = resource(data, schema=schema, dshape=dshape, columns=columns,\n\u001b[1;32m---> 58\u001b[1;33m                         **kwargs)\n\u001b[0m\u001b[0;32m     59\u001b[0m     if (isinstance(data, Iterator) and\n\u001b[0;32m     60\u001b[0m             not isinstance(data, tuple(not_an_iterator))):\n",
      "\u001b[1;32m/home/gpk/anaconda/lib/python2.7/site-packages/odo/regex.pyc\u001b[0m in \u001b[0;36m__call__\u001b[1;34m(self, s, *args, **kwargs)\u001b[0m\n\u001b[0;32m     62\u001b[0m \u001b[1;33m\u001b[0m\u001b[0m\n\u001b[0;32m     63\u001b[0m     \u001b[1;32mdef\u001b[0m \u001b[0m__call__\u001b[0m\u001b[1;33m(\u001b[0m\u001b[0mself\u001b[0m\u001b[1;33m,\u001b[0m \u001b[0ms\u001b[0m\u001b[1;33m,\u001b[0m \u001b[1;33m*\u001b[0m\u001b[0margs\u001b[0m\u001b[1;33m,\u001b[0m \u001b[1;33m**\u001b[0m\u001b[0mkwargs\u001b[0m\u001b[1;33m)\u001b[0m\u001b[1;33m:\u001b[0m\u001b[1;33m\u001b[0m\u001b[0m\n\u001b[1;32m---> 64\u001b[1;33m         \u001b[1;32mreturn\u001b[0m \u001b[0mself\u001b[0m\u001b[1;33m.\u001b[0m\u001b[0mdispatch\u001b[0m\u001b[1;33m(\u001b[0m\u001b[0ms\u001b[0m\u001b[1;33m)\u001b[0m\u001b[1;33m(\u001b[0m\u001b[0ms\u001b[0m\u001b[1;33m,\u001b[0m \u001b[1;33m*\u001b[0m\u001b[0margs\u001b[0m\u001b[1;33m,\u001b[0m \u001b[1;33m**\u001b[0m\u001b[0mkwargs\u001b[0m\u001b[1;33m)\u001b[0m\u001b[1;33m\u001b[0m\u001b[0m\n\u001b[0m\u001b[0;32m     65\u001b[0m \u001b[1;33m\u001b[0m\u001b[0m\n\u001b[0;32m     66\u001b[0m     \u001b[1;33m@\u001b[0m\u001b[0mproperty\u001b[0m\u001b[1;33m\u001b[0m\u001b[0m\n",
      "\u001b[1;32m/home/gpk/anaconda/lib/python2.7/site-packages/odo/resource.pyc\u001b[0m in \u001b[0;36mresource_all\u001b[1;34m(uri, *args, **kwargs)\u001b[0m\n\u001b[0;32m     98\u001b[0m     \u001b[0mdiscover\u001b[0m\u001b[1;33m\u001b[0m\u001b[0m\n\u001b[0;32m     99\u001b[0m     \"\"\"\n\u001b[1;32m--> 100\u001b[1;33m     \u001b[1;32mraise\u001b[0m \u001b[0mNotImplementedError\u001b[0m\u001b[1;33m(\u001b[0m\u001b[1;34m\"Unable to parse uri to data resource: \"\u001b[0m \u001b[1;33m+\u001b[0m \u001b[0muri\u001b[0m\u001b[1;33m)\u001b[0m\u001b[1;33m\u001b[0m\u001b[0m\n\u001b[0m\u001b[0;32m    101\u001b[0m \u001b[1;33m\u001b[0m\u001b[0m\n\u001b[0;32m    102\u001b[0m \u001b[1;33m\u001b[0m\u001b[0m\n",
      "\u001b[1;31mNotImplementedError\u001b[0m: Unable to parse uri to data resource: /home/gpk/thinkful/divvy_bike.db"
     ]
    }
   ],
   "source": [
    "data = blz.Data('/home/gpk/thinkful/divvy_bike.db')"
   ]
  },
  {
   "cell_type": "code",
   "execution_count": 8,
   "metadata": {
    "collapsed": false
   },
   "outputs": [],
   "source": [
    "A  = dict(column='stationBeanList')"
   ]
  },
  {
   "cell_type": "code",
   "execution_count": 101,
   "metadata": {
    "collapsed": false
   },
   "outputs": [],
   "source": [
    "def insert_data(con,cur,df,**kwargs):\n",
    "    for i,item in enumerate(kwargs['ref_vars']):\n",
    "        with con:\n",
    "            cur.execute(kwargs['insert_sql'],])"
   ]
  },
  {
   "cell_type": "code",
   "execution_count": 98,
   "metadata": {
    "collapsed": false
   },
   "outputs": [
    {
     "data": {
      "text/plain": [
       "'location'"
      ]
     },
     "execution_count": 98,
     "metadata": {},
     "output_type": "execute_result"
    }
   ],
   "source": [
    "ref_vars = '''id, totalDocks, city, altitude, stAddress2, longitude, \n",
    "    postalCode, testStation, stAddress1, stationName, landMark, \n",
    "    latitude, location'''.replace('\\n','').split(',')\n",
    "ref_vars[12].strip()"
   ]
  },
  {
   "cell_type": "code",
   "execution_count": 104,
   "metadata": {
    "collapsed": false
   },
   "outputs": [
    {
     "data": {
      "text/plain": [
       "13"
      ]
     },
     "execution_count": 104,
     "metadata": {},
     "output_type": "execute_result"
    }
   ],
   "source": [
    "S = \"create table available_bikes(execution_time INT, \"+\", \".join(station_id_col)+\")\"\n",
    "\n",
    "len(ref_vars)"
   ]
  },
  {
   "cell_type": "code",
   "execution_count": 15,
   "metadata": {
    "collapsed": false
   },
   "outputs": [],
   "source": [
    "np.math.factorial"
   ]
  },
  {
   "cell_type": "code",
   "execution_count": null,
   "metadata": {
    "collapsed": false
   },
   "outputs": [],
   "source": []
  },
  {
   "cell_type": "code",
   "execution_count": null,
   "metadata": {
    "collapsed": false
   },
   "outputs": [],
   "source": []
  },
  {
   "cell_type": "code",
   "execution_count": null,
   "metadata": {
    "collapsed": true
   },
   "outputs": [],
   "source": []
  }
 ],
 "metadata": {
  "kernelspec": {
   "display_name": "Python 2",
   "language": "python",
   "name": "python2"
  },
  "language_info": {
   "codemirror_mode": {
    "name": "ipython",
    "version": 2
   },
   "file_extension": ".py",
   "mimetype": "text/x-python",
   "name": "python",
   "nbconvert_exporter": "python",
   "pygments_lexer": "ipython2",
   "version": "2.7.11"
  }
 },
 "nbformat": 4,
 "nbformat_minor": 0
}

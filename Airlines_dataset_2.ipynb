{
 "cells": [
  {
   "cell_type": "code",
   "execution_count": 26,
   "metadata": {
    "collapsed": true
   },
   "outputs": [],
   "source": [
    "import pandas as pd\n",
    "import numpy as np\n",
    "import time"
   ]
  },
  {
   "cell_type": "code",
   "execution_count": 27,
   "metadata": {
    "collapsed": true
   },
   "outputs": [],
   "source": [
    "textfile = 'AviationData.txt'"
   ]
  },
  {
   "cell_type": "code",
   "execution_count": 28,
   "metadata": {},
   "outputs": [],
   "source": [
    "#Exploring\n",
    "with open(textfile,'r') as f:\n",
    "    aviation_data_gen = (line.split(' | ') for line in f.readlines())"
   ]
  },
  {
   "cell_type": "code",
   "execution_count": 29,
   "metadata": {},
   "outputs": [],
   "source": [
    "aviation_data = [i for i in aviation_data_gen]"
   ]
  },
  {
   "cell_type": "code",
   "execution_count": 37,
   "metadata": {},
   "outputs": [
    {
     "name": "stdout",
     "output_type": "stream",
     "text": [
      "Exponential time algo : 0.21642661094665527\n"
     ]
    }
   ],
   "source": [
    "t = time.time()\n",
    "lax_code = []\n",
    "for row in aviation_data:\n",
    "    for col in row:\n",
    "        if col == 'LAX94LA336':\n",
    "            lax_code.append(row)\n",
    "exp_time = time.time() - t\n",
    "print('Exponential time algo : {0}'.format(exp_time))"
   ]
  },
  {
   "cell_type": "code",
   "execution_count": 34,
   "metadata": {},
   "outputs": [
    {
     "data": {
      "text/plain": [
       "0.1604921817779541"
      ]
     },
     "execution_count": 34,
     "metadata": {},
     "output_type": "execute_result"
    }
   ],
   "source": [
    "exp_time"
   ]
  },
  {
   "cell_type": "code",
   "execution_count": 32,
   "metadata": {},
   "outputs": [
    {
     "data": {
      "text/plain": [
       "[['20001218X45447',\n",
       "  'Accident',\n",
       "  'LAX94LA336',\n",
       "  '07/19/1962',\n",
       "  'BRIDGEPORT, CA',\n",
       "  'United States',\n",
       "  '',\n",
       "  '',\n",
       "  '',\n",
       "  '',\n",
       "  'Fatal(4)',\n",
       "  'Destroyed',\n",
       "  '',\n",
       "  'N5069P',\n",
       "  'PIPER',\n",
       "  'PA24-180',\n",
       "  'No',\n",
       "  '1',\n",
       "  'Reciprocating',\n",
       "  '',\n",
       "  '',\n",
       "  'Personal',\n",
       "  '',\n",
       "  '4',\n",
       "  '0',\n",
       "  '0',\n",
       "  '0',\n",
       "  'UNK',\n",
       "  'UNKNOWN',\n",
       "  'Probable Cause',\n",
       "  '09/19/1996',\n",
       "  '\\n']]"
      ]
     },
     "execution_count": 32,
     "metadata": {},
     "output_type": "execute_result"
    }
   ],
   "source": [
    "lax_code"
   ]
  },
  {
   "cell_type": "code",
   "execution_count": 35,
   "metadata": {},
   "outputs": [
    {
     "name": "stdout",
     "output_type": "stream",
     "text": [
      "0.0002646446228027344\n"
     ]
    }
   ],
   "source": [
    "#Linear time:\n",
    "t = time.time()\n",
    "def linear_search(ls,item):\n",
    "    for row in ls:\n",
    "        if item in row:\n",
    "            return row\n",
    "lin_time = time.time() - t\n",
    "print(lin_time)"
   ]
  },
  {
   "cell_type": "code",
   "execution_count": 10,
   "metadata": {},
   "outputs": [
    {
     "name": "stdout",
     "output_type": "stream",
     "text": [
      "CPU times: user 100 ms, sys: 0 ns, total: 100 ms\n",
      "Wall time: 96 ms\n"
     ]
    }
   ],
   "source": [
    "%%time\n",
    "output = linear_search(aviation_data,'LAX94LA336')"
   ]
  },
  {
   "cell_type": "code",
   "execution_count": 38,
   "metadata": {},
   "outputs": [
    {
     "name": "stdout",
     "output_type": "stream",
     "text": [
      "20001218X45447 | Accident | LAX94LA336 | 07/19/1962 | BRIDGEPORT, CA | United States |  |  |  |  | Fatal(4) | Destroyed |  | N5069P | PIPER | PA24-180 | No | 1 | Reciprocating |  |  | Personal |  | 4 | 0 | 0 | 0 | UNK | UNKNOWN | Probable Cause | 09/19/1996 | \r",
      "\r\n"
     ]
    }
   ],
   "source": [
    "t = time.time()\n",
    "\n",
    "!grep \"LAX94LA336\" AviationData.txt\n",
    "\n",
    "constant_time = time.time() - t"
   ]
  },
  {
   "cell_type": "code",
   "execution_count": null,
   "metadata": {},
   "outputs": [],
   "source": [
    "columns = aviation_data[0]\n",
    "columns"
   ]
  },
  {
   "cell_type": "code",
   "execution_count": null,
   "metadata": {},
   "outputs": [],
   "source": [
    "df = pd.DataFrame(aviation_data[1:],columns=columns)"
   ]
  },
  {
   "cell_type": "code",
   "execution_count": null,
   "metadata": {},
   "outputs": [],
   "source": [
    "df.sample(10)"
   ]
  },
  {
   "cell_type": "code",
   "execution_count": null,
   "metadata": {},
   "outputs": [],
   "source": [
    "df['Accident Number'].loc[77276]"
   ]
  }
 ],
 "metadata": {
  "anaconda-cloud": {},
  "kernelspec": {
   "display_name": "Python 3",
   "language": "python",
   "name": "python3"
  },
  "language_info": {
   "codemirror_mode": {
    "name": "ipython",
    "version": 3
   },
   "file_extension": ".py",
   "mimetype": "text/x-python",
   "name": "python",
   "nbconvert_exporter": "python",
   "pygments_lexer": "ipython3",
   "version": "3.6.1"
  }
 },
 "nbformat": 4,
 "nbformat_minor": 1
}
